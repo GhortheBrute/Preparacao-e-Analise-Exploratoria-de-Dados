{
 "cells": [
  {
   "cell_type": "code",
   "execution_count": 1,
   "id": "ed3085d5",
   "metadata": {},
   "outputs": [],
   "source": [
    "import pandas as pd\n",
    "import matplotlib.pyplot as plt\n",
    "import seaborn as sns"
   ]
  },
  {
   "cell_type": "code",
   "execution_count": 2,
   "id": "02aa343e",
   "metadata": {},
   "outputs": [],
   "source": [
    "df = pd.read_csv('Dados/Cães.csv')"
   ]
  },
  {
   "cell_type": "code",
   "execution_count": 3,
   "id": "53f3e2a2",
   "metadata": {},
   "outputs": [
    {
     "data": {
      "application/vnd.microsoft.datawrangler.viewer.v0+json": {
       "columns": [
        {
         "name": "index",
         "rawType": "int64",
         "type": "integer"
        },
        {
         "name": "Cão",
         "rawType": "object",
         "type": "string"
        },
        {
         "name": "Velocidade máxima (km)",
         "rawType": "int64",
         "type": "integer"
        }
       ],
       "ref": "53f0f2cb-580b-443f-97a6-851c7cceee97",
       "rows": [
        [
         "0",
         "Galgo",
         "45"
        ],
        [
         "1",
         "Wolfhound irlandês",
         "30"
        ],
        [
         "2",
         "Cão selvagem africano",
         "44"
        ],
        [
         "3",
         "Dálmata",
         "30"
        ],
        [
         "4",
         "Saluki",
         "43"
        ]
       ],
       "shape": {
        "columns": 2,
        "rows": 5
       }
      },
      "text/html": [
       "<div>\n",
       "<style scoped>\n",
       "    .dataframe tbody tr th:only-of-type {\n",
       "        vertical-align: middle;\n",
       "    }\n",
       "\n",
       "    .dataframe tbody tr th {\n",
       "        vertical-align: top;\n",
       "    }\n",
       "\n",
       "    .dataframe thead th {\n",
       "        text-align: right;\n",
       "    }\n",
       "</style>\n",
       "<table border=\"1\" class=\"dataframe\">\n",
       "  <thead>\n",
       "    <tr style=\"text-align: right;\">\n",
       "      <th></th>\n",
       "      <th>Cão</th>\n",
       "      <th>Velocidade máxima (km)</th>\n",
       "    </tr>\n",
       "  </thead>\n",
       "  <tbody>\n",
       "    <tr>\n",
       "      <th>0</th>\n",
       "      <td>Galgo</td>\n",
       "      <td>45</td>\n",
       "    </tr>\n",
       "    <tr>\n",
       "      <th>1</th>\n",
       "      <td>Wolfhound irlandês</td>\n",
       "      <td>30</td>\n",
       "    </tr>\n",
       "    <tr>\n",
       "      <th>2</th>\n",
       "      <td>Cão selvagem africano</td>\n",
       "      <td>44</td>\n",
       "    </tr>\n",
       "    <tr>\n",
       "      <th>3</th>\n",
       "      <td>Dálmata</td>\n",
       "      <td>30</td>\n",
       "    </tr>\n",
       "    <tr>\n",
       "      <th>4</th>\n",
       "      <td>Saluki</td>\n",
       "      <td>43</td>\n",
       "    </tr>\n",
       "  </tbody>\n",
       "</table>\n",
       "</div>"
      ],
      "text/plain": [
       "                     Cão  Velocidade máxima (km)\n",
       "0                  Galgo                      45\n",
       "1     Wolfhound irlandês                      30\n",
       "2  Cão selvagem africano                      44\n",
       "3                Dálmata                      30\n",
       "4                 Saluki                      43"
      ]
     },
     "execution_count": 3,
     "metadata": {},
     "output_type": "execute_result"
    }
   ],
   "source": [
    "df.head()"
   ]
  },
  {
   "cell_type": "code",
   "execution_count": 5,
   "id": "6fc5cf1e",
   "metadata": {},
   "outputs": [
    {
     "name": "stdout",
     "output_type": "stream",
     "text": [
      "<class 'pandas.core.frame.DataFrame'>\n",
      "RangeIndex: 15 entries, 0 to 14\n",
      "Data columns (total 2 columns):\n",
      " #   Column                  Non-Null Count  Dtype \n",
      "---  ------                  --------------  ----- \n",
      " 0   Cão                     15 non-null     object\n",
      " 1   Velocidade máxima (km)  15 non-null     int64 \n",
      "dtypes: int64(1), object(1)\n",
      "memory usage: 372.0+ bytes\n"
     ]
    }
   ],
   "source": [
    "df.info()"
   ]
  },
  {
   "cell_type": "markdown",
   "id": "c616d937",
   "metadata": {},
   "source": [
    "# a) Como implementar usando um box-plot desses dados Seaborn?\n"
   ]
  },
  {
   "cell_type": "code",
   "execution_count": null,
   "id": "fc4bb1f7",
   "metadata": {},
   "outputs": [
    {
     "data": {
      "image/png": "[encoded data removed]",
      "text/plain": [
       "<Figure size 640x480 with 1 Axes>"
      ]
     },
     "metadata": {},
     "output_type": "display_data"
    }
   ],
   "source": [
    "# Calcula as estatísticas descritivas da coluna 'Velocidade máxima (km)'\n",
    "minimo = df['Velocidade máxima (km)'].min()\n",
    "q1 = df['Velocidade máxima (km)'].quantile(0.25)\n",
    "median = df['Velocidade máxima (km)'].median()\n",
    "q3 = df['Velocidade máxima (km)'].quantile(0.75)\n",
    "maximo = df['Velocidade máxima (km)'].max()\n",
    "\n",
    "# Cria o boxplot usando Seaborn\n",
    "sns.boxplot(y=df['Velocidade máxima (km)'], color='lightblue')\n",
    "plt.ylabel('Velocidade Máxima', color='white')\n",
    "plt.title('Boxplot da Velocidade Máxima dos Cães', color='white')\n",
    "\n",
    "# Adiciona as linhas de referência para os valores estatísticos\n",
    "plt.text(0.1, minimo, f'Mínimo: {minimo}', va='center', color='yellow')\n",
    "plt.text(0.1, q1, f'Q1: {q1}', va='center', color='yellow')\n",
    "plt.text(0.1, median, f'Mediana: {median}', va='center', color='yellow')\n",
    "plt.text(0.1, q3, f'Q3: {q3}', va='center', color='yellow')\n",
    "plt.text(0.1, maximo, f'Máximo: {maximo}', va='center', color='yellow')\n",
    "\n",
    "# Exibe o gráfico\n",
    "plt.show()"
   ]
  },
  {
   "cell_type": "markdown",
   "id": "49040934",
   "metadata": {},
   "source": [
    "# b) Estime os valores do valor mínimo, do primeiro quartil, da mediana, do terceiro quartil e do valor máximo no box-plot.\n"
   ]
  },
  {
   "cell_type": "code",
   "execution_count": 21,
   "id": "8c5b8caa",
   "metadata": {},
   "outputs": [
    {
     "name": "stdout",
     "output_type": "stream",
     "text": [
      "Valor mínimo: 20\n",
      "Valor Q1: 29.0\n",
      "Valor Mediana: 30.0\n",
      "Valor Q3: 35.5\n",
      "Valor máximo: 45\n"
     ]
    }
   ],
   "source": [
    "print(f'Valor mínimo: {minimo}'\n",
    "      f'\\nValor Q1: {q1}'\n",
    "      f'\\nValor Mediana: {median}'\n",
    "      f'\\nValor Q3: {q3}'\n",
    "      f'\\nValor máximo: {maximo}'\n",
    "      )"
   ]
  },
  {
   "cell_type": "markdown",
   "id": "73204747",
   "metadata": {},
   "source": [
    "# c) Por que a mediana não está no centro da caixa?\n"
   ]
  },
  {
   "cell_type": "markdown",
   "id": "f45bbe38",
   "metadata": {},
   "source": [
    "Porque a mediana é meio de todos os dados e não apenas dos valores compreendidos da box."
   ]
  },
  {
   "cell_type": "markdown",
   "id": "c046f434",
   "metadata": {},
   "source": [
    "# d) Faça um resumo sobre a velocidade dos cães mais rápidos."
   ]
  },
  {
   "cell_type": "code",
   "execution_count": 22,
   "id": "ee0519bd",
   "metadata": {},
   "outputs": [
    {
     "data": {
      "application/vnd.microsoft.datawrangler.viewer.v0+json": {
       "columns": [
        {
         "name": "index",
         "rawType": "int64",
         "type": "integer"
        },
        {
         "name": "Cão",
         "rawType": "object",
         "type": "string"
        },
        {
         "name": "Velocidade máxima (km)",
         "rawType": "int64",
         "type": "integer"
        }
       ],
       "ref": "933318af-e34d-4d08-a9dc-bedb294ba92f",
       "rows": [
        [
         "0",
         "Galgo",
         "45"
        ],
        [
         "2",
         "Cão selvagem africano",
         "44"
        ],
        [
         "4",
         "Saluki",
         "43"
        ],
        [
         "6",
         "Whippet",
         "36"
        ]
       ],
       "shape": {
        "columns": 2,
        "rows": 4
       }
      },
      "text/html": [
       "<div>\n",
       "<style scoped>\n",
       "    .dataframe tbody tr th:only-of-type {\n",
       "        vertical-align: middle;\n",
       "    }\n",
       "\n",
       "    .dataframe tbody tr th {\n",
       "        vertical-align: top;\n",
       "    }\n",
       "\n",
       "    .dataframe thead th {\n",
       "        text-align: right;\n",
       "    }\n",
       "</style>\n",
       "<table border=\"1\" class=\"dataframe\">\n",
       "  <thead>\n",
       "    <tr style=\"text-align: right;\">\n",
       "      <th></th>\n",
       "      <th>Cão</th>\n",
       "      <th>Velocidade máxima (km)</th>\n",
       "    </tr>\n",
       "  </thead>\n",
       "  <tbody>\n",
       "    <tr>\n",
       "      <th>0</th>\n",
       "      <td>Galgo</td>\n",
       "      <td>45</td>\n",
       "    </tr>\n",
       "    <tr>\n",
       "      <th>2</th>\n",
       "      <td>Cão selvagem africano</td>\n",
       "      <td>44</td>\n",
       "    </tr>\n",
       "    <tr>\n",
       "      <th>4</th>\n",
       "      <td>Saluki</td>\n",
       "      <td>43</td>\n",
       "    </tr>\n",
       "    <tr>\n",
       "      <th>6</th>\n",
       "      <td>Whippet</td>\n",
       "      <td>36</td>\n",
       "    </tr>\n",
       "  </tbody>\n",
       "</table>\n",
       "</div>"
      ],
      "text/plain": [
       "                     Cão  Velocidade máxima (km)\n",
       "0                  Galgo                      45\n",
       "2  Cão selvagem africano                      44\n",
       "4                 Saluki                      43\n",
       "6                Whippet                      36"
      ]
     },
     "execution_count": 22,
     "metadata": {},
     "output_type": "execute_result"
    }
   ],
   "source": [
    "df_acima_q3 = df[df['Velocidade máxima (km)'] > q3]\n",
    "df_acima_q3.head()"
   ]
  },
  {
   "cell_type": "markdown",
   "id": "cd69b8c1",
   "metadata": {},
   "source": [
    "São cães, em sua maioria, fora da curva, sendo uma variação de 13~15 em velocidade."
   ]
  },
  {
   "cell_type": "code",
   "execution_count": 28,
   "id": "bfcef476",
   "metadata": {},
   "outputs": [
    {
     "data": {
      "text/plain": [
       "array([], dtype=int64)"
      ]
     },
     "execution_count": 28,
     "metadata": {},
     "output_type": "execute_result"
    }
   ],
   "source": [
    "#tips = sns.load_dataset(df)\n",
    "ax = sns.boxplot(data=df)\n",
    "\n",
    "from matplotlib.cbook import boxplot_stats\n",
    "\n",
    "boxplot_stats(df['Velocidade máxima (km)']).pop(0)['fliers']\n"
   ]
  },
  {
   "cell_type": "code",
   "execution_count": 35,
   "id": "122b942c",
   "metadata": {},
   "outputs": [
    {
     "data": {
      "image/png": "[encoded data removed]",
      "text/plain": [
       "<Figure size 640x480 with 1 Axes>"
      ]
     },
     "metadata": {},
     "output_type": "display_data"
    }
   ],
   "source": [
    "exemplo_1 = [4,5,8,9,9,11,13,13,15,16,22]\n",
    "\n",
    "ax2 = sns.boxplot(data=exemplo_1)\n",
    "plt.ylim(1, 23)  # Limita o eixo y de 1 a 23\n",
    "plt.yticks(range(1, 24))  # Mostra todos os valores de 1 até 23 no eixo Y\n",
    "plt.show()"
   ]
  },
  {
   "cell_type": "code",
   "execution_count": 38,
   "id": "43db6991",
   "metadata": {},
   "outputs": [
    {
     "data": {
      "image/png": "[encoded data removed]",
      "text/plain": [
       "<Figure size 640x480 with 1 Axes>"
      ]
     },
     "metadata": {},
     "output_type": "display_data"
    }
   ],
   "source": [
    "iris = sns.load_dataset('iris')\n",
    "sns.boxplot(y=iris[\"species\"], x=iris[\"sepal_length\"] )\n",
    "plt.show()"
   ]
  },
  {
   "cell_type": "code",
   "execution_count": 39,
   "id": "bd22bf77",
   "metadata": {},
   "outputs": [
    {
     "data": {
      "image/png": "[encoded data removed]",
      "text/plain": [
       "<Figure size 640x480 with 1 Axes>"
      ]
     },
     "metadata": {},
     "output_type": "display_data"
    }
   ],
   "source": [
    "df_tips = sns.load_dataset ('tips')\n",
    "\n",
    "ax3 = sns.boxplot(x=\"day\", y=\"total_bill\", data=df_tips,saturation=0.6)\n",
    "ax3.axes.set_title(\"Box-plot faturas por dia da semana\", fontsize=20, y=1.01)\n",
    "plt.xlabel(\"dia da semana\", labelpad=14)\n",
    "plt.ylabel(\"Total da Conta [$] \", labelpad=14)\n",
    "plt.show()"
   ]
  }
 ],
 "metadata": {
  "kernelspec": {
   "display_name": "Python 3",
   "language": "python",
   "name": "python3"
  },
  "language_info": {
   "codemirror_mode": {
    "name": "ipython",
    "version": 3
   },
   "file_extension": ".py",
   "mimetype": "text/x-python",
   "name": "python",
   "nbconvert_exporter": "python",
   "pygments_lexer": "ipython3",
   "version": "3.11.13"
  }
 },
 "nbformat": 4,
 "nbformat_minor": 5
}
