{
  "cells": [
    {
      "cell_type": "markdown",
      "metadata": {
        "colab_type": "text",
        "id": "Ekn31XO3kxqC"
      },
      "source": [
        "# Relatório Final - ATP de Preparação e Análise Exploratória de Dados\n",
        "# Curso de Tecnologia em Big Data e Inteligência Analítica\n",
        "# Pontifícia Universidade Católica do Paraná (PUCPR)\n",
        "\n",
        "`Jesus Wildes Suathê Farias` - `farias.jesus@pucpr.edu.br`"
      ]
    },
    {
      "cell_type": "markdown",
      "metadata": {
        "colab_type": "text",
        "id": "snzFSViQqesq"
      },
      "source": [
        "# Introdução\n",
        "\n",
        "Nesta atividade, vamos trabalhar com um conjunto de dados da empresa Enron. A Enron foi uma das maiores empresas de energia dos Estados Unidos. No seu auge, chegou a valer 65 bilhões de dólares e ela faliu em 24 dias.  A Enron foi fundada em 1985 por Kenneth Lay com a fusão da Houston Natural Gas e da InterNorth. Anos depois, quando Jeffrey Skilling tomou posse, ele estabeleceu um conjunto de diretores que criaram entidades fictícias, relatórios financeiros fracos e contabilidades erradas, que somadas, esconderam bilhões de dólares e projetos fracassados dos investidores. O esquema foi tão complexo que nem mesmo auditorias profissionais foram capazes de identificar estes problemas, e a empresa foi investigada pelo governo norte-americano, incluindo a sua suprema corte. \n",
        "A base de dados utilizada na investigação incluía  aproximadamente 500 mil e-mails trocados por empregados da Enron.  Estes e-mails foram obtidos pela comissão regulatória de energia dos Estados Unidos durante sua investigação. A base de dados que vamos utilizar sumariza informações não apenas destes e-mails, mas também de salário e ações da bolsa de valores dos envolvidos. Além disso, os funcionários são divididos em pessoas de interesse (Person of Interest, ou POI), que participaram da fraude; e funcionários que não participaram da fraude, ou não-POIs.\n",
        "\n",
        "## Dicas\n",
        "\n",
        "Nesta análise e preparação de dados, nós precisamos ir além de explorações simples. Garanta que toda exploração e análise de dados seja acompanhada de uma análise crítica."
      ]
    },
    {
      "cell_type": "markdown",
      "metadata": {
        "colab_type": "text",
        "id": "BhgONqpjqkUn"
      },
      "source": [
        "# Importando as bibliotecas\n",
        "\n",
        "Na célula abaixo, as principais bibliotecas para análise de dados são importadas. Sinta-se a vontade para importar mais bibliotecas de acordo com sua demanda e/ou preferência, contudo, garanta que todos os comandos de `import` sejam feitos na célula abaixo."
      ]
    },
    {
      "cell_type": "code",
      "execution_count": 1,
      "metadata": {
        "colab": {},
        "colab_type": "code",
        "id": "sU8rSkCwq08U"
      },
      "outputs": [],
      "source": [
        "import numpy as np\n",
        "import pandas as pd\n",
        "import matplotlib.pyplot as plt\n",
        "import seaborn as sns\n",
        "%matplotlib inline\n",
        "\n",
        "# carregue os módulos de sua preferência aqui\n",
        "# Adicionado para exibir Markdown no Jupyter Notebook\n",
        "from IPython.display import Markdown, display"
      ]
    },
    {
      "cell_type": "markdown",
      "metadata": {
        "colab_type": "text",
        "id": "QX-qfV-RrM4Y"
      },
      "source": [
        "# Carregamento de dados\n",
        "\n",
        "Na célula abaixo é realizado o carregamento da base de dados.\n",
        "Você **não** deve alterar o código apresentado."
      ]
    },
    {
      "cell_type": "code",
      "execution_count": 2,
      "metadata": {
        "colab": {},
        "colab_type": "code",
        "id": "8WUpXWccrW2V"
      },
      "outputs": [],
      "source": [
        "df = pd.read_csv('enron.csv')"
      ]
    },
    {
      "cell_type": "markdown",
      "metadata": {
        "colab_type": "text",
        "id": "6btiXw3VwGVM"
      },
      "source": [
        "Verificando se os dados carregaram corretamente:"
      ]
    },
    {
      "cell_type": "code",
      "execution_count": 3,
      "metadata": {
        "colab": {},
        "colab_type": "code",
        "id": "PH0FFv7OwJPs"
      },
      "outputs": [
        {
          "data": {
            "application/vnd.microsoft.datawrangler.viewer.v0+json": {
              "columns": [
                {
                  "name": "index",
                  "rawType": "int64",
                  "type": "integer"
                },
                {
                  "name": "bonus",
                  "rawType": "float64",
                  "type": "float"
                },
                {
                  "name": "deferral_payments",
                  "rawType": "float64",
                  "type": "float"
                },
                {
                  "name": "deferred_income",
                  "rawType": "float64",
                  "type": "float"
                },
                {
                  "name": "director_fees",
                  "rawType": "float64",
                  "type": "float"
                },
                {
                  "name": "email_address",
                  "rawType": "object",
                  "type": "unknown"
                },
                {
                  "name": "exercised_stock_options",
                  "rawType": "float64",
                  "type": "float"
                },
                {
                  "name": "expenses",
                  "rawType": "float64",
                  "type": "float"
                },
                {
                  "name": "from_messages",
                  "rawType": "float64",
                  "type": "float"
                },
                {
                  "name": "from_poi_to_this_person",
                  "rawType": "float64",
                  "type": "float"
                },
                {
                  "name": "from_this_person_to_poi",
                  "rawType": "float64",
                  "type": "float"
                },
                {
                  "name": "loan_advances",
                  "rawType": "float64",
                  "type": "float"
                },
                {
                  "name": "long_term_incentive",
                  "rawType": "float64",
                  "type": "float"
                },
                {
                  "name": "other",
                  "rawType": "float64",
                  "type": "float"
                },
                {
                  "name": "poi",
                  "rawType": "bool",
                  "type": "boolean"
                },
                {
                  "name": "restricted_stock",
                  "rawType": "float64",
                  "type": "float"
                },
                {
                  "name": "restricted_stock_deferred",
                  "rawType": "float64",
                  "type": "float"
                },
                {
                  "name": "salary",
                  "rawType": "float64",
                  "type": "float"
                },
                {
                  "name": "shared_receipt_with_poi",
                  "rawType": "float64",
                  "type": "float"
                },
                {
                  "name": "to_messages",
                  "rawType": "float64",
                  "type": "float"
                },
                {
                  "name": "total_payments",
                  "rawType": "float64",
                  "type": "float"
                },
                {
                  "name": "total_stock_value",
                  "rawType": "float64",
                  "type": "float"
                },
                {
                  "name": "name",
                  "rawType": "object",
                  "type": "string"
                }
              ],
              "ref": "61076995-85ae-48d9-a0ad-070e82533fe0",
              "rows": [
                [
                  "0",
                  "4175000.0",
                  "2869717.0",
                  "-3081055.0",
                  null,
                  "phillip.allen@enron.com",
                  "1729541.0",
                  "13868.0",
                  "2195.0",
                  "47.0",
                  "65.0",
                  null,
                  "304805.0",
                  "152.0",
                  "False",
                  "126027.0",
                  "-126027.0",
                  "201955.0",
                  "1407.0",
                  "2902.0",
                  "4484442.0",
                  "1729541.0",
                  "ALLEN PHILLIP K"
                ],
                [
                  "1",
                  null,
                  "178980.0",
                  null,
                  null,
                  null,
                  "257817.0",
                  "3486.0",
                  null,
                  null,
                  null,
                  null,
                  null,
                  null,
                  "False",
                  null,
                  null,
                  null,
                  null,
                  null,
                  "182466.0",
                  "257817.0",
                  "BADUM JAMES P"
                ],
                [
                  "2",
                  null,
                  null,
                  "-5104.0",
                  null,
                  "james.bannantine@enron.com",
                  "4046157.0",
                  "56301.0",
                  "29.0",
                  "39.0",
                  "0.0",
                  null,
                  null,
                  "864523.0",
                  "False",
                  "1757552.0",
                  "-560222.0",
                  "477.0",
                  "465.0",
                  "566.0",
                  "916197.0",
                  "5243487.0",
                  "BANNANTINE JAMES M"
                ],
                [
                  "3",
                  "1200000.0",
                  "1295738.0",
                  "-1386055.0",
                  null,
                  null,
                  "6680544.0",
                  "11200.0",
                  null,
                  null,
                  null,
                  null,
                  "1586055.0",
                  "2660303.0",
                  "False",
                  "3942714.0",
                  null,
                  "267102.0",
                  null,
                  null,
                  "5634343.0",
                  "10623258.0",
                  "BAXTER JOHN C"
                ],
                [
                  "4",
                  "400000.0",
                  "260455.0",
                  "-201641.0",
                  null,
                  "frank.bay@enron.com",
                  null,
                  "129142.0",
                  null,
                  null,
                  null,
                  null,
                  null,
                  "69.0",
                  "False",
                  "145796.0",
                  "-82782.0",
                  "239671.0",
                  null,
                  null,
                  "827696.0",
                  "63014.0",
                  "BAY FRANKLIN R"
                ]
              ],
              "shape": {
                "columns": 22,
                "rows": 5
              }
            },
            "text/html": [
              "<div>\n",
              "<style scoped>\n",
              "    .dataframe tbody tr th:only-of-type {\n",
              "        vertical-align: middle;\n",
              "    }\n",
              "\n",
              "    .dataframe tbody tr th {\n",
              "        vertical-align: top;\n",
              "    }\n",
              "\n",
              "    .dataframe thead th {\n",
              "        text-align: right;\n",
              "    }\n",
              "</style>\n",
              "<table border=\"1\" class=\"dataframe\">\n",
              "  <thead>\n",
              "    <tr style=\"text-align: right;\">\n",
              "      <th></th>\n",
              "      <th>bonus</th>\n",
              "      <th>deferral_payments</th>\n",
              "      <th>deferred_income</th>\n",
              "      <th>director_fees</th>\n",
              "      <th>email_address</th>\n",
              "      <th>exercised_stock_options</th>\n",
              "      <th>expenses</th>\n",
              "      <th>from_messages</th>\n",
              "      <th>from_poi_to_this_person</th>\n",
              "      <th>from_this_person_to_poi</th>\n",
              "      <th>...</th>\n",
              "      <th>other</th>\n",
              "      <th>poi</th>\n",
              "      <th>restricted_stock</th>\n",
              "      <th>restricted_stock_deferred</th>\n",
              "      <th>salary</th>\n",
              "      <th>shared_receipt_with_poi</th>\n",
              "      <th>to_messages</th>\n",
              "      <th>total_payments</th>\n",
              "      <th>total_stock_value</th>\n",
              "      <th>name</th>\n",
              "    </tr>\n",
              "  </thead>\n",
              "  <tbody>\n",
              "    <tr>\n",
              "      <th>0</th>\n",
              "      <td>4175000.0</td>\n",
              "      <td>2869717.0</td>\n",
              "      <td>-3081055.0</td>\n",
              "      <td>NaN</td>\n",
              "      <td>phillip.allen@enron.com</td>\n",
              "      <td>1729541.0</td>\n",
              "      <td>13868.0</td>\n",
              "      <td>2195.0</td>\n",
              "      <td>47.0</td>\n",
              "      <td>65.0</td>\n",
              "      <td>...</td>\n",
              "      <td>152.0</td>\n",
              "      <td>False</td>\n",
              "      <td>126027.0</td>\n",
              "      <td>-126027.0</td>\n",
              "      <td>201955.0</td>\n",
              "      <td>1407.0</td>\n",
              "      <td>2902.0</td>\n",
              "      <td>4484442.0</td>\n",
              "      <td>1729541.0</td>\n",
              "      <td>ALLEN PHILLIP K</td>\n",
              "    </tr>\n",
              "    <tr>\n",
              "      <th>1</th>\n",
              "      <td>NaN</td>\n",
              "      <td>178980.0</td>\n",
              "      <td>NaN</td>\n",
              "      <td>NaN</td>\n",
              "      <td>NaN</td>\n",
              "      <td>257817.0</td>\n",
              "      <td>3486.0</td>\n",
              "      <td>NaN</td>\n",
              "      <td>NaN</td>\n",
              "      <td>NaN</td>\n",
              "      <td>...</td>\n",
              "      <td>NaN</td>\n",
              "      <td>False</td>\n",
              "      <td>NaN</td>\n",
              "      <td>NaN</td>\n",
              "      <td>NaN</td>\n",
              "      <td>NaN</td>\n",
              "      <td>NaN</td>\n",
              "      <td>182466.0</td>\n",
              "      <td>257817.0</td>\n",
              "      <td>BADUM JAMES P</td>\n",
              "    </tr>\n",
              "    <tr>\n",
              "      <th>2</th>\n",
              "      <td>NaN</td>\n",
              "      <td>NaN</td>\n",
              "      <td>-5104.0</td>\n",
              "      <td>NaN</td>\n",
              "      <td>james.bannantine@enron.com</td>\n",
              "      <td>4046157.0</td>\n",
              "      <td>56301.0</td>\n",
              "      <td>29.0</td>\n",
              "      <td>39.0</td>\n",
              "      <td>0.0</td>\n",
              "      <td>...</td>\n",
              "      <td>864523.0</td>\n",
              "      <td>False</td>\n",
              "      <td>1757552.0</td>\n",
              "      <td>-560222.0</td>\n",
              "      <td>477.0</td>\n",
              "      <td>465.0</td>\n",
              "      <td>566.0</td>\n",
              "      <td>916197.0</td>\n",
              "      <td>5243487.0</td>\n",
              "      <td>BANNANTINE JAMES M</td>\n",
              "    </tr>\n",
              "    <tr>\n",
              "      <th>3</th>\n",
              "      <td>1200000.0</td>\n",
              "      <td>1295738.0</td>\n",
              "      <td>-1386055.0</td>\n",
              "      <td>NaN</td>\n",
              "      <td>NaN</td>\n",
              "      <td>6680544.0</td>\n",
              "      <td>11200.0</td>\n",
              "      <td>NaN</td>\n",
              "      <td>NaN</td>\n",
              "      <td>NaN</td>\n",
              "      <td>...</td>\n",
              "      <td>2660303.0</td>\n",
              "      <td>False</td>\n",
              "      <td>3942714.0</td>\n",
              "      <td>NaN</td>\n",
              "      <td>267102.0</td>\n",
              "      <td>NaN</td>\n",
              "      <td>NaN</td>\n",
              "      <td>5634343.0</td>\n",
              "      <td>10623258.0</td>\n",
              "      <td>BAXTER JOHN C</td>\n",
              "    </tr>\n",
              "    <tr>\n",
              "      <th>4</th>\n",
              "      <td>400000.0</td>\n",
              "      <td>260455.0</td>\n",
              "      <td>-201641.0</td>\n",
              "      <td>NaN</td>\n",
              "      <td>frank.bay@enron.com</td>\n",
              "      <td>NaN</td>\n",
              "      <td>129142.0</td>\n",
              "      <td>NaN</td>\n",
              "      <td>NaN</td>\n",
              "      <td>NaN</td>\n",
              "      <td>...</td>\n",
              "      <td>69.0</td>\n",
              "      <td>False</td>\n",
              "      <td>145796.0</td>\n",
              "      <td>-82782.0</td>\n",
              "      <td>239671.0</td>\n",
              "      <td>NaN</td>\n",
              "      <td>NaN</td>\n",
              "      <td>827696.0</td>\n",
              "      <td>63014.0</td>\n",
              "      <td>BAY FRANKLIN R</td>\n",
              "    </tr>\n",
              "  </tbody>\n",
              "</table>\n",
              "<p>5 rows × 22 columns</p>\n",
              "</div>"
            ],
            "text/plain": [
              "       bonus  deferral_payments  deferred_income  director_fees  \\\n",
              "0  4175000.0          2869717.0       -3081055.0            NaN   \n",
              "1        NaN           178980.0              NaN            NaN   \n",
              "2        NaN                NaN          -5104.0            NaN   \n",
              "3  1200000.0          1295738.0       -1386055.0            NaN   \n",
              "4   400000.0           260455.0        -201641.0            NaN   \n",
              "\n",
              "                email_address  exercised_stock_options  expenses  \\\n",
              "0     phillip.allen@enron.com                1729541.0   13868.0   \n",
              "1                         NaN                 257817.0    3486.0   \n",
              "2  james.bannantine@enron.com                4046157.0   56301.0   \n",
              "3                         NaN                6680544.0   11200.0   \n",
              "4         frank.bay@enron.com                      NaN  129142.0   \n",
              "\n",
              "   from_messages  from_poi_to_this_person  from_this_person_to_poi  ...  \\\n",
              "0         2195.0                     47.0                     65.0  ...   \n",
              "1            NaN                      NaN                      NaN  ...   \n",
              "2           29.0                     39.0                      0.0  ...   \n",
              "3            NaN                      NaN                      NaN  ...   \n",
              "4            NaN                      NaN                      NaN  ...   \n",
              "\n",
              "       other    poi  restricted_stock  restricted_stock_deferred    salary  \\\n",
              "0      152.0  False          126027.0                  -126027.0  201955.0   \n",
              "1        NaN  False               NaN                        NaN       NaN   \n",
              "2   864523.0  False         1757552.0                  -560222.0     477.0   \n",
              "3  2660303.0  False         3942714.0                        NaN  267102.0   \n",
              "4       69.0  False          145796.0                   -82782.0  239671.0   \n",
              "\n",
              "   shared_receipt_with_poi  to_messages  total_payments  total_stock_value  \\\n",
              "0                   1407.0       2902.0       4484442.0          1729541.0   \n",
              "1                      NaN          NaN        182466.0           257817.0   \n",
              "2                    465.0        566.0        916197.0          5243487.0   \n",
              "3                      NaN          NaN       5634343.0         10623258.0   \n",
              "4                      NaN          NaN        827696.0            63014.0   \n",
              "\n",
              "                 name  \n",
              "0     ALLEN PHILLIP K  \n",
              "1       BADUM JAMES P  \n",
              "2  BANNANTINE JAMES M  \n",
              "3       BAXTER JOHN C  \n",
              "4      BAY FRANKLIN R  \n",
              "\n",
              "[5 rows x 22 columns]"
            ]
          },
          "execution_count": 3,
          "metadata": {},
          "output_type": "execute_result"
        }
      ],
      "source": [
        "df.head(5)"
      ]
    },
    {
      "cell_type": "markdown",
      "metadata": {
        "colab_type": "text",
        "id": "8lwb-XjA3jIX"
      },
      "source": [
        "# Análise descritiva de dados\n",
        "\n",
        "Nesta etapa, você conduzirá uma análise descritiva da base de dados da Enron.\n",
        "\n",
        "Para a base de dados como um todo, você deve reportar:\n",
        "- O número de indivíduos (instâncias) na tabela;\n",
        "- O número de variáveis descritivas (colunas ou atributos) destes indivíduos;\n",
        "- O número de pessoas de interesse, isto é, fraudadores (POIs) e não-POIs;\n",
        "\n",
        "Para cada uma das variáveis numéricas, você deve apresentar:\n",
        "- Média\n",
        "- Mediana\n",
        "- Variância\n",
        "- Desvio padrão\n",
        "- Quartis\n",
        "\n",
        "E para cada uma das variáveis categóricas:\n",
        "- A moda\n",
        "- Os valores únicos de cada variável\n",
        "\n",
        "Além de apresentar estatísticas sobre cada variável da base de dados, a análise a ser conduzida nesta etapa requer uma análise crítica. \n",
        "Desta forma, você é convidado a extrair *insights* a partir destas estatísticas, verificando se os valores apresentados condizem ou não com a realidade.\n",
        "**Lembre-se: todas estas estatísticas devem ser calculadas e apresentadas, de forma legível, no relatório fornecido na descrição da ATP.**\n"
      ]
    },
    {
      "cell_type": "code",
      "execution_count": 5,
      "metadata": {},
      "outputs": [
        {
          "data": {
            "text/markdown": [
              "Quantidade de indivíduos (instâncias) no dataset: **146**"
            ],
            "text/plain": [
              "<IPython.core.display.Markdown object>"
            ]
          },
          "metadata": {},
          "output_type": "display_data"
        }
      ],
      "source": [
        "# Calculando e exibindo a quantidade de indivíduos (instâncias) no dataset, utilizando Markdown para formatação\n",
        "display(Markdown('Quantidade de indivíduos (instâncias) no dataset: **{}**'.format(len(df))))"
      ]
    },
    {
      "cell_type": "code",
      "execution_count": 6,
      "metadata": {},
      "outputs": [
        {
          "data": {
            "text/markdown": [
              "**Variáveis descritivas do dataset**: 2 variáveis."
            ],
            "text/plain": [
              "<IPython.core.display.Markdown object>"
            ]
          },
          "metadata": {},
          "output_type": "display_data"
        },
        {
          "data": {
            "text/markdown": [
              "**Variáveis descritivas:**: ['email_address', 'name']"
            ],
            "text/plain": [
              "<IPython.core.display.Markdown object>"
            ]
          },
          "metadata": {},
          "output_type": "display_data"
        }
      ],
      "source": [
        "# Calculando e exibindo a quantidade de variáveis descritivas no dataset\n",
        "variaveis_descritivas = df.describe(include=['object', 'category']).T\n",
        "\n",
        "# Exibindo a quantidade de variáveis descritivas (através de len() ) e seus nomes\n",
        "display(Markdown(f'**Variáveis descritivas do dataset**: {len(variaveis_descritivas)} variáveis.'))\n",
        "display(Markdown(f'**Variáveis descritivas:**: {variaveis_descritivas.index.tolist()}'))"
      ]
    },
    {
      "cell_type": "code",
      "execution_count": 7,
      "metadata": {},
      "outputs": [
        {
          "data": {
            "text/markdown": [
              "**Quantidade de Pessoas de Interesse**: 18"
            ],
            "text/plain": [
              "<IPython.core.display.Markdown object>"
            ]
          },
          "metadata": {},
          "output_type": "display_data"
        },
        {
          "data": {
            "text/markdown": [
              "**Quantidade de Pessoas fora de interesse**: 128"
            ],
            "text/plain": [
              "<IPython.core.display.Markdown object>"
            ]
          },
          "metadata": {},
          "output_type": "display_data"
        }
      ],
      "source": [
        "# Calculando e exibindo a quantidade de pessoas de interesse (POI) no dataset\n",
        "display(Markdown('**Quantidade de Pessoas de Interesse**: {}'.format(df['poi'].sum())))\n",
        "display(Markdown('**Quantidade de Pessoas fora de interesse**: {}'.format((~df['poi']).sum())))"
      ]
    },
    {
      "cell_type": "code",
      "execution_count": null,
      "metadata": {},
      "outputs": [
        {
          "data": {
            "text/markdown": [
              "**Cálculos estatísticos das variáveis numéricas**"
            ],
            "text/plain": [
              "<IPython.core.display.Markdown object>"
            ]
          },
          "metadata": {},
          "output_type": "display_data"
        },
        {
          "data": {
            "text/markdown": [
              "|                  |              bonus |   deferral_payments |   deferred_income |   director_fees |   exercised_stock_options |        expenses |   from_messages |   from_poi_to_this_person |   from_this_person_to_poi |       loan_advances |   long_term_incentive |             other |   restricted_stock |   restricted_stock_deferred |           salary |   shared_receipt_with_poi |   to_messages |     total_payments |   total_stock_value |\n",
              "|:-----------------|-------------------:|--------------------:|------------------:|----------------:|--------------------------:|----------------:|----------------:|--------------------------:|--------------------------:|--------------------:|----------------------:|------------------:|-------------------:|----------------------------:|-----------------:|--------------------------:|--------------:|-------------------:|--------------------:|\n",
              "| Média            |         2374234.61 |          1642674.15 |       -1140475.14 |       166804.88 |                5987053.77 |       108728.92 |          608.79 |                     64.90 |                     41.23 |         41962500.00 |            1470361.45 |         919064.97 |         2321741.14 |                   166410.56 |        562194.29 |                   1176.47 |       2073.86 |         5081526.49 |          6773957.45 |\n",
              "| Mediana          |          769375.00 |           227449.00 |        -159792.00 |       108579.00 |                1310813.50 |        46950.00 |           41.00 |                     35.00 |                      8.00 |         41762500.00 |             442035.00 |          52382.00 |          451740.00 |                  -146975.00 |        259996.00 |                    740.50 |       1211.00 |         1101393.00 |          1102872.50 |\n",
              "| Variância        | 114775396172335.09 |   26645521052091.14 | 16203896512113.12 | 102330514030.11 |        964848252082401.75 | 284659397866.12 |      3389406.00 |                   7565.39 |                  10014.63 | 2216828541666666.75 |     35316388281936.87 | 21061242250265.09 | 156707288526355.62 |           17652554476485.44 | 7378661383806.17 |                1388432.46 |    6670344.36 | 844583360181500.75 | 1517708056259895.75 |\n",
              "| Desvio Padrão    |        10713327.97 |          5161929.97 |        4025406.38 |       319891.41 |               31062006.57 |       533534.81 |         1841.03 |                     86.98 |                    100.07 |         47083208.70 |            5942759.32 |        4589252.91 |        12518278.18 |                  4201494.31 |       2716369.15 |                   1178.32 |       2582.70 |        29061716.40 |         38957772.73 |\n",
              "| 1º Quartil (25%) |          431250.00 |            81573.00 |        -694862.00 |        98784.00 |                 527886.25 |        22614.00 |           22.75 |                     10.00 |                      1.00 |          1600000.00 |             281250.00 |           1215.00 |          254018.00 |                  -389621.75 |        211816.00 |                    249.75 |        541.25 |          394475.00 |           494510.25 |\n",
              "| 3º Quartil (75%) |         1200000.00 |          1002671.50 |         -38346.00 |       113784.00 |                2547724.00 |        79952.50 |          145.50 |                     72.25 |                     24.75 |         82125000.00 |             938672.00 |         362096.00 |         1002369.75 |                   -75009.75 |        312117.00 |                   1888.25 |       2634.75 |         2093263.00 |          2949846.75 |"
            ],
            "text/plain": [
              "<IPython.core.display.Markdown object>"
            ]
          },
          "metadata": {},
          "output_type": "display_data"
        }
      ],
      "source": [
        "# Calculando, criando um novo DataFrame e exibindo a quantidade de variáveis numéricas no dataset original\n",
        "# Criando uma variável que contém somente as colunas numéricas do DataFrame\n",
        "variaveis_numericas = df.select_dtypes(include=['number']).columns\n",
        "resumo = pd.DataFrame({\n",
        "    'Média': df[variaveis_numericas].mean(numeric_only=True),\n",
        "    'Mediana': df[variaveis_numericas].median(numeric_only=True),\n",
        "    'Variância': df[variaveis_numericas].var(numeric_only=True),\n",
        "    'Desvio Padrão': df[variaveis_numericas].std(numeric_only=True),\n",
        "    '1º Quartil (25%)': df[variaveis_numericas].quantile(0.25, numeric_only=True),\n",
        "    '3º Quartil (75%)': df[variaveis_numericas].quantile(0.75, numeric_only=True)\n",
        "}).T\n",
        "\n",
        "display(Markdown('**Cálculos estatísticos das variáveis numéricas**'))\n",
        "display(Markdown(resumo.to_markdown(floatfmt=\".2f\")))"
      ]
    },
    {
      "cell_type": "markdown",
      "metadata": {
        "colab_type": "text",
        "id": "nVVExKOzq2w_"
      },
      "source": [
        "# Análise univariada de dados\n",
        "\n",
        "Nesta seção, você conduzirá uma análise univariada de dados.\n",
        "Esta análise deve contemplar **todas** as variáveis disponíveis na base de dados, exceto o **nome do indivíduo**.\n",
        "O objetivo desta etapa é identificar o comportamento das variáveis, verificando curtose e assimetria, assim como extraindo insights sobre cada variável individualmente.\n",
        "Desta forma, para cada variável, trabalhe com as seguintes etapas:\n",
        "\n",
        "* Crie um cabeçalho no relatório com o nome da variável;\n",
        "* Crie visualizações univariadas (histogramas, box-plots, etc), de acordo com o tipo de dado; e\n",
        "* Apresente as principais conclusões que podemos obter a partir destas visualizações.\n",
        "\n"
      ]
    },
    {
      "cell_type": "code",
      "execution_count": 9,
      "metadata": {
        "colab": {},
        "colab_type": "code",
        "id": "pl8bnfLJq4t0"
      },
      "outputs": [],
      "source": [
        "# conduza sua análise univariada de dados aqui\n",
        "# use quantas células de código e texto forem necessárias para atender os \n",
        "# requisitos apresentados acima e a rubrica do projeto"
      ]
    },
    {
      "cell_type": "markdown",
      "metadata": {
        "colab_type": "text",
        "id": "53DNoqgeq5vN"
      },
      "source": [
        "# Análise multivariada de dados\n",
        "\n",
        "Nesta seção, você deverá conduzir uma análise de dados multivariada. O objetivo desta etapa é encontrar relações e/ou correlações entre as variáveis da base de dados da Enron.\n",
        "Apesar de mais flexível que a etapa anterior, esta é uma das etapas mais importantes da ATP, uma vez que esta base de dados possui inúmeros relacionamentos interessantes a serem descobertos e reportados.\n",
        "Nesta etapa, você deverá criar visualizações, contudo, sempre no seguinte formato:\n",
        "- Apresentar uma pergunta/hipótese sobre os dados,\n",
        "- Criar uma visualização que responda esta pergunta ou confirme a hipótese, e\n",
        "- Análise dos dados a partir desta visualização, respondendo textualmente a pergunta/hipótese afirmada anteriormente, assim como apresentando ao leitor os principais insights obtidos a partir da visualização.\n",
        "\n",
        "Esta etapa do projeto requer que ao menos 20 visualizações bivariadas sejam criadas. Sinta-se a vontade para utilizar gráficos de barra, box-plots, violin plots, ou demais gráficos discutidos durante o curso. Note, contudo, que a utilização dos gráficos deverá ser apropriada, isto é, o tipo de cada gráfico deve ser aderente com os tipos de dados sendo apresentados."
      ]
    },
    {
      "cell_type": "code",
      "execution_count": 10,
      "metadata": {
        "colab": {},
        "colab_type": "code",
        "id": "_sf5mSZQq7mb"
      },
      "outputs": [],
      "source": [
        "# conduza sua análise multivariada aqui\n",
        "# use quantas células de código e texto forem necessárias para atender os \n",
        "# requisitos apresentados acima e a rubrica do projeto"
      ]
    },
    {
      "cell_type": "markdown",
      "metadata": {
        "colab_type": "text",
        "id": "ocVIx1i8rggA"
      },
      "source": [
        "# Visualizações efetivas\n",
        "\n",
        "Nesta seção, você deve **escolher** e **melhorar** 5 visualizações criadas anteriormente.\n",
        "A chave aqui é melhorar estas visualizações com o objetivo de apresentá-las a uma audiência que não conheça a base de dados da Enron e/ou não trabalhe com análise de dados.\n",
        "**Sendo assim, garanta que o tamanho, cores, texturas e outras componentes visuais sejam bem escolhidas e utilizadas, sempre visando garantir que a informação seja passada de forma clara e correta para a audiência.**\n",
        "\n",
        "Para cada um destas visualizações, garanta que as seguintes etapas foram seguidas:\n",
        "\n",
        "1. Criação de visualização: Criar novamente a visualização, garantindo que ela possui título e rótulos nos eixos e legenda (caso necessário)\n",
        "2. Cores: Garantir que o uso de cores é correto, de acordo com o objetivo da visualização e também com escalas de cores visando leitores daltônicos\n",
        "3. Cores e tamanhos: Garantir que texturas e tamanhos são utilizados de forma correta\n",
        "4. Chart junk: Garantir que a visualização possui um baixo fator de \"chart junk\"\n",
        "5. Avaliação por pares: você deverá angariar feedback de três pessoas sobre sua visualização. Você deverá apresentar o feedback de cada pessoa, assim como deve discutir, de forma textual, se este feedback acarretou em alguma mudança de design. Você deve apresentar evidências das mudanças realizadas, isto é, a visualização **antes** e **depois** do *feedback*.\n",
        "6. Descrição: cada visualização deve ser acompanhada de uma descrição que inclua as principais descobertas (*insights*) que podem ser extraídos a partir dela.\n",
        "\n",
        "\n"
      ]
    },
    {
      "cell_type": "code",
      "execution_count": 11,
      "metadata": {
        "colab": {},
        "colab_type": "code",
        "id": "7sM8RfRYriBZ"
      },
      "outputs": [],
      "source": [
        "# crie as visualizações finais aqui\n",
        "# novamente, use quantas células forem necessárias"
      ]
    },
    {
      "cell_type": "markdown",
      "metadata": {
        "colab_type": "text",
        "id": "ofE0Lohgrnfi"
      },
      "source": [
        "# Conclusão\n"
      ]
    },
    {
      "cell_type": "markdown",
      "metadata": {
        "colab_type": "text",
        "id": "RcsSv8tjruCm"
      },
      "source": [
        "## Reflexão\n",
        "\n",
        "Nesta seção você deve apresentar uma reflexão sobre sua atuação neste projeto e sobre os conceitos aprendidos e praticados. A idéia é apresentar (1) o que você fez bem e (2) o que você poderia ter feito diferente. Esta reflexão deve possuir ao menos 2500 caracteres (sem espaços).\n"
      ]
    },
    {
      "cell_type": "markdown",
      "metadata": {
        "colab_type": "text",
        "id": "CEC8QH_fuxah"
      },
      "source": [
        "```\n",
        "Escreva sua resposta aqui.\n",
        "```"
      ]
    },
    {
      "cell_type": "markdown",
      "metadata": {
        "colab_type": "text",
        "id": "Fv6ze2ljO8xk"
      },
      "source": [
        "# Referências\n",
        "\n",
        "Adicione na célula abaixo todas as referências utilizadas durante a preparação deste relatório."
      ]
    },
    {
      "cell_type": "markdown",
      "metadata": {
        "colab_type": "text",
        "id": "zQjo2RWcPDhT"
      },
      "source": [
        "```\n",
        "Adicione as referências aqui.\n",
        "```"
      ]
    },
    {
      "cell_type": "markdown",
      "metadata": {
        "colab_type": "text",
        "id": "L-BujcDprqQ-"
      },
      "source": [
        "## Trabalhos futuros\n",
        "\n",
        "Na célula abaixo, apresente ao menos 3 (três) idéias diferentes que você gostaria de atuar em um trabalho futuro com esta mesma base de dados. Elas podem incluir, por exemplo, o uso de aprendizagem de máquina para um objetivo específico, ou criar/analisar variáveis que não tivemos tempo de fazer durante a execução deste trabalho. \n",
        "Você deve fornecer **detalhes** sobre como cada idéia seria abordada, especificando as técnicas e/ou metodologia a ser seguida.\n",
        "Esta seção deve possuir ao menos 2500 caracteres (sem espaços)."
      ]
    },
    {
      "cell_type": "markdown",
      "metadata": {
        "colab_type": "text",
        "id": "Y-6gFWAyur8T"
      },
      "source": [
        "```\n",
        "Escreva sua resposta aqui.\n",
        "```\n"
      ]
    },
    {
      "cell_type": "markdown",
      "metadata": {
        "colab_type": "text",
        "id": "WnNWFOtQr4Bx"
      },
      "source": [
        "# Último passsos\n",
        "\n",
        "1. Salve este relatório como um jupyter notebook em formato `.ipynb`\n",
        "2. Salve uma cópia deste relatório como um arquivo PDF, isto é, com extensão `.pdf`\n",
        "3. Compacte ambos em um único arquivo com extensão ZIP no seguinte formato:(`analise-enron-primeiro_nome-ultimo_nome.zip`)\n",
        "4. Envie o seu relatório para avaliação no ambiente virtual de aprendizagem"
      ]
    }
  ],
  "metadata": {
    "colab": {
      "collapsed_sections": [],
      "name": "atp-analise-preparacao-dados-template.ipynb",
      "provenance": []
    },
    "kernelspec": {
      "display_name": "Python 3",
      "name": "python3"
    },
    "language_info": {
      "codemirror_mode": {
        "name": "ipython",
        "version": 3
      },
      "file_extension": ".py",
      "mimetype": "text/x-python",
      "name": "python",
      "nbconvert_exporter": "python",
      "pygments_lexer": "ipython3",
      "version": "3.11.13"
    }
  },
  "nbformat": 4,
  "nbformat_minor": 0
}
