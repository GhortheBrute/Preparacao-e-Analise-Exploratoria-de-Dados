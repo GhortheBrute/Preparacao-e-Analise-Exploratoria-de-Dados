{
 "cells": [
  {
   "cell_type": "code",
   "execution_count": 1,
   "id": "ae1a45c8",
   "metadata": {},
   "outputs": [],
   "source": [
    "# Importações necessárias\n",
    "import numpy as np\n",
    "import pandas as pd\n",
    "import matplotlib.pyplot as plt\n",
    "import seaborn as sns\n",
    "%matplotlib inline\n",
    "\n",
    "from IPython.display import Markdown, display"
   ]
  },
  {
   "cell_type": "code",
   "execution_count": 2,
   "id": "e502eb25",
   "metadata": {},
   "outputs": [],
   "source": [
    "# Carregando o dataset\n",
    "df = pd.read_csv('enron.csv')"
   ]
  },
  {
   "cell_type": "code",
   "execution_count": 3,
   "id": "59ef8f30",
   "metadata": {},
   "outputs": [
    {
     "data": {
      "application/vnd.microsoft.datawrangler.viewer.v0+json": {
       "columns": [
        {
         "name": "index",
         "rawType": "int64",
         "type": "integer"
        },
        {
         "name": "bonus",
         "rawType": "float64",
         "type": "float"
        },
        {
         "name": "deferral_payments",
         "rawType": "float64",
         "type": "float"
        },
        {
         "name": "deferred_income",
         "rawType": "float64",
         "type": "float"
        },
        {
         "name": "director_fees",
         "rawType": "float64",
         "type": "float"
        },
        {
         "name": "email_address",
         "rawType": "object",
         "type": "unknown"
        },
        {
         "name": "exercised_stock_options",
         "rawType": "float64",
         "type": "float"
        },
        {
         "name": "expenses",
         "rawType": "float64",
         "type": "float"
        },
        {
         "name": "from_messages",
         "rawType": "float64",
         "type": "float"
        },
        {
         "name": "from_poi_to_this_person",
         "rawType": "float64",
         "type": "float"
        },
        {
         "name": "from_this_person_to_poi",
         "rawType": "float64",
         "type": "float"
        },
        {
         "name": "loan_advances",
         "rawType": "float64",
         "type": "float"
        },
        {
         "name": "long_term_incentive",
         "rawType": "float64",
         "type": "float"
        },
        {
         "name": "other",
         "rawType": "float64",
         "type": "float"
        },
        {
         "name": "poi",
         "rawType": "bool",
         "type": "boolean"
        },
        {
         "name": "restricted_stock",
         "rawType": "float64",
         "type": "float"
        },
        {
         "name": "restricted_stock_deferred",
         "rawType": "float64",
         "type": "float"
        },
        {
         "name": "salary",
         "rawType": "float64",
         "type": "float"
        },
        {
         "name": "shared_receipt_with_poi",
         "rawType": "float64",
         "type": "float"
        },
        {
         "name": "to_messages",
         "rawType": "float64",
         "type": "float"
        },
        {
         "name": "total_payments",
         "rawType": "float64",
         "type": "float"
        },
        {
         "name": "total_stock_value",
         "rawType": "float64",
         "type": "float"
        },
        {
         "name": "name",
         "rawType": "object",
         "type": "string"
        }
       ],
       "ref": "793cc1fd-e048-4137-9c23-034a6ff355c6",
       "rows": [
        [
         "0",
         "4175000.0",
         "2869717.0",
         "-3081055.0",
         null,
         "phillip.allen@enron.com",
         "1729541.0",
         "13868.0",
         "2195.0",
         "47.0",
         "65.0",
         null,
         "304805.0",
         "152.0",
         "False",
         "126027.0",
         "-126027.0",
         "201955.0",
         "1407.0",
         "2902.0",
         "4484442.0",
         "1729541.0",
         "ALLEN PHILLIP K"
        ],
        [
         "1",
         null,
         "178980.0",
         null,
         null,
         null,
         "257817.0",
         "3486.0",
         null,
         null,
         null,
         null,
         null,
         null,
         "False",
         null,
         null,
         null,
         null,
         null,
         "182466.0",
         "257817.0",
         "BADUM JAMES P"
        ],
        [
         "2",
         null,
         null,
         "-5104.0",
         null,
         "james.bannantine@enron.com",
         "4046157.0",
         "56301.0",
         "29.0",
         "39.0",
         "0.0",
         null,
         null,
         "864523.0",
         "False",
         "1757552.0",
         "-560222.0",
         "477.0",
         "465.0",
         "566.0",
         "916197.0",
         "5243487.0",
         "BANNANTINE JAMES M"
        ],
        [
         "3",
         "1200000.0",
         "1295738.0",
         "-1386055.0",
         null,
         null,
         "6680544.0",
         "11200.0",
         null,
         null,
         null,
         null,
         "1586055.0",
         "2660303.0",
         "False",
         "3942714.0",
         null,
         "267102.0",
         null,
         null,
         "5634343.0",
         "10623258.0",
         "BAXTER JOHN C"
        ],
        [
         "4",
         "400000.0",
         "260455.0",
         "-201641.0",
         null,
         "frank.bay@enron.com",
         null,
         "129142.0",
         null,
         null,
         null,
         null,
         null,
         "69.0",
         "False",
         "145796.0",
         "-82782.0",
         "239671.0",
         null,
         null,
         "827696.0",
         "63014.0",
         "BAY FRANKLIN R"
        ]
       ],
       "shape": {
        "columns": 22,
        "rows": 5
       }
      },
      "text/html": [
       "<div>\n",
       "<style scoped>\n",
       "    .dataframe tbody tr th:only-of-type {\n",
       "        vertical-align: middle;\n",
       "    }\n",
       "\n",
       "    .dataframe tbody tr th {\n",
       "        vertical-align: top;\n",
       "    }\n",
       "\n",
       "    .dataframe thead th {\n",
       "        text-align: right;\n",
       "    }\n",
       "</style>\n",
       "<table border=\"1\" class=\"dataframe\">\n",
       "  <thead>\n",
       "    <tr style=\"text-align: right;\">\n",
       "      <th></th>\n",
       "      <th>bonus</th>\n",
       "      <th>deferral_payments</th>\n",
       "      <th>deferred_income</th>\n",
       "      <th>director_fees</th>\n",
       "      <th>email_address</th>\n",
       "      <th>exercised_stock_options</th>\n",
       "      <th>expenses</th>\n",
       "      <th>from_messages</th>\n",
       "      <th>from_poi_to_this_person</th>\n",
       "      <th>from_this_person_to_poi</th>\n",
       "      <th>...</th>\n",
       "      <th>other</th>\n",
       "      <th>poi</th>\n",
       "      <th>restricted_stock</th>\n",
       "      <th>restricted_stock_deferred</th>\n",
       "      <th>salary</th>\n",
       "      <th>shared_receipt_with_poi</th>\n",
       "      <th>to_messages</th>\n",
       "      <th>total_payments</th>\n",
       "      <th>total_stock_value</th>\n",
       "      <th>name</th>\n",
       "    </tr>\n",
       "  </thead>\n",
       "  <tbody>\n",
       "    <tr>\n",
       "      <th>0</th>\n",
       "      <td>4175000.0</td>\n",
       "      <td>2869717.0</td>\n",
       "      <td>-3081055.0</td>\n",
       "      <td>NaN</td>\n",
       "      <td>phillip.allen@enron.com</td>\n",
       "      <td>1729541.0</td>\n",
       "      <td>13868.0</td>\n",
       "      <td>2195.0</td>\n",
       "      <td>47.0</td>\n",
       "      <td>65.0</td>\n",
       "      <td>...</td>\n",
       "      <td>152.0</td>\n",
       "      <td>False</td>\n",
       "      <td>126027.0</td>\n",
       "      <td>-126027.0</td>\n",
       "      <td>201955.0</td>\n",
       "      <td>1407.0</td>\n",
       "      <td>2902.0</td>\n",
       "      <td>4484442.0</td>\n",
       "      <td>1729541.0</td>\n",
       "      <td>ALLEN PHILLIP K</td>\n",
       "    </tr>\n",
       "    <tr>\n",
       "      <th>1</th>\n",
       "      <td>NaN</td>\n",
       "      <td>178980.0</td>\n",
       "      <td>NaN</td>\n",
       "      <td>NaN</td>\n",
       "      <td>NaN</td>\n",
       "      <td>257817.0</td>\n",
       "      <td>3486.0</td>\n",
       "      <td>NaN</td>\n",
       "      <td>NaN</td>\n",
       "      <td>NaN</td>\n",
       "      <td>...</td>\n",
       "      <td>NaN</td>\n",
       "      <td>False</td>\n",
       "      <td>NaN</td>\n",
       "      <td>NaN</td>\n",
       "      <td>NaN</td>\n",
       "      <td>NaN</td>\n",
       "      <td>NaN</td>\n",
       "      <td>182466.0</td>\n",
       "      <td>257817.0</td>\n",
       "      <td>BADUM JAMES P</td>\n",
       "    </tr>\n",
       "    <tr>\n",
       "      <th>2</th>\n",
       "      <td>NaN</td>\n",
       "      <td>NaN</td>\n",
       "      <td>-5104.0</td>\n",
       "      <td>NaN</td>\n",
       "      <td>james.bannantine@enron.com</td>\n",
       "      <td>4046157.0</td>\n",
       "      <td>56301.0</td>\n",
       "      <td>29.0</td>\n",
       "      <td>39.0</td>\n",
       "      <td>0.0</td>\n",
       "      <td>...</td>\n",
       "      <td>864523.0</td>\n",
       "      <td>False</td>\n",
       "      <td>1757552.0</td>\n",
       "      <td>-560222.0</td>\n",
       "      <td>477.0</td>\n",
       "      <td>465.0</td>\n",
       "      <td>566.0</td>\n",
       "      <td>916197.0</td>\n",
       "      <td>5243487.0</td>\n",
       "      <td>BANNANTINE JAMES M</td>\n",
       "    </tr>\n",
       "    <tr>\n",
       "      <th>3</th>\n",
       "      <td>1200000.0</td>\n",
       "      <td>1295738.0</td>\n",
       "      <td>-1386055.0</td>\n",
       "      <td>NaN</td>\n",
       "      <td>NaN</td>\n",
       "      <td>6680544.0</td>\n",
       "      <td>11200.0</td>\n",
       "      <td>NaN</td>\n",
       "      <td>NaN</td>\n",
       "      <td>NaN</td>\n",
       "      <td>...</td>\n",
       "      <td>2660303.0</td>\n",
       "      <td>False</td>\n",
       "      <td>3942714.0</td>\n",
       "      <td>NaN</td>\n",
       "      <td>267102.0</td>\n",
       "      <td>NaN</td>\n",
       "      <td>NaN</td>\n",
       "      <td>5634343.0</td>\n",
       "      <td>10623258.0</td>\n",
       "      <td>BAXTER JOHN C</td>\n",
       "    </tr>\n",
       "    <tr>\n",
       "      <th>4</th>\n",
       "      <td>400000.0</td>\n",
       "      <td>260455.0</td>\n",
       "      <td>-201641.0</td>\n",
       "      <td>NaN</td>\n",
       "      <td>frank.bay@enron.com</td>\n",
       "      <td>NaN</td>\n",
       "      <td>129142.0</td>\n",
       "      <td>NaN</td>\n",
       "      <td>NaN</td>\n",
       "      <td>NaN</td>\n",
       "      <td>...</td>\n",
       "      <td>69.0</td>\n",
       "      <td>False</td>\n",
       "      <td>145796.0</td>\n",
       "      <td>-82782.0</td>\n",
       "      <td>239671.0</td>\n",
       "      <td>NaN</td>\n",
       "      <td>NaN</td>\n",
       "      <td>827696.0</td>\n",
       "      <td>63014.0</td>\n",
       "      <td>BAY FRANKLIN R</td>\n",
       "    </tr>\n",
       "  </tbody>\n",
       "</table>\n",
       "<p>5 rows × 22 columns</p>\n",
       "</div>"
      ],
      "text/plain": [
       "       bonus  deferral_payments  deferred_income  director_fees  \\\n",
       "0  4175000.0          2869717.0       -3081055.0            NaN   \n",
       "1        NaN           178980.0              NaN            NaN   \n",
       "2        NaN                NaN          -5104.0            NaN   \n",
       "3  1200000.0          1295738.0       -1386055.0            NaN   \n",
       "4   400000.0           260455.0        -201641.0            NaN   \n",
       "\n",
       "                email_address  exercised_stock_options  expenses  \\\n",
       "0     phillip.allen@enron.com                1729541.0   13868.0   \n",
       "1                         NaN                 257817.0    3486.0   \n",
       "2  james.bannantine@enron.com                4046157.0   56301.0   \n",
       "3                         NaN                6680544.0   11200.0   \n",
       "4         frank.bay@enron.com                      NaN  129142.0   \n",
       "\n",
       "   from_messages  from_poi_to_this_person  from_this_person_to_poi  ...  \\\n",
       "0         2195.0                     47.0                     65.0  ...   \n",
       "1            NaN                      NaN                      NaN  ...   \n",
       "2           29.0                     39.0                      0.0  ...   \n",
       "3            NaN                      NaN                      NaN  ...   \n",
       "4            NaN                      NaN                      NaN  ...   \n",
       "\n",
       "       other    poi  restricted_stock  restricted_stock_deferred    salary  \\\n",
       "0      152.0  False          126027.0                  -126027.0  201955.0   \n",
       "1        NaN  False               NaN                        NaN       NaN   \n",
       "2   864523.0  False         1757552.0                  -560222.0     477.0   \n",
       "3  2660303.0  False         3942714.0                        NaN  267102.0   \n",
       "4       69.0  False          145796.0                   -82782.0  239671.0   \n",
       "\n",
       "   shared_receipt_with_poi  to_messages  total_payments  total_stock_value  \\\n",
       "0                   1407.0       2902.0       4484442.0          1729541.0   \n",
       "1                      NaN          NaN        182466.0           257817.0   \n",
       "2                    465.0        566.0        916197.0          5243487.0   \n",
       "3                      NaN          NaN       5634343.0         10623258.0   \n",
       "4                      NaN          NaN        827696.0            63014.0   \n",
       "\n",
       "                 name  \n",
       "0     ALLEN PHILLIP K  \n",
       "1       BADUM JAMES P  \n",
       "2  BANNANTINE JAMES M  \n",
       "3       BAXTER JOHN C  \n",
       "4      BAY FRANKLIN R  \n",
       "\n",
       "[5 rows x 22 columns]"
      ]
     },
     "execution_count": 3,
     "metadata": {},
     "output_type": "execute_result"
    }
   ],
   "source": [
    "# Exibindo as primeiras linhas do dataset (Verificando se o dataset foi carregado corretamente)\n",
    "df.head()"
   ]
  },
  {
   "cell_type": "code",
   "execution_count": 4,
   "id": "fbf612a1",
   "metadata": {},
   "outputs": [
    {
     "data": {
      "text/markdown": [
       "Quantidade de indivíduos (instâncias) no dataset: **146**"
      ],
      "text/plain": [
       "<IPython.core.display.Markdown object>"
      ]
     },
     "metadata": {},
     "output_type": "display_data"
    }
   ],
   "source": [
    "# Calculando e exibindo a quantidade de indivíduos (instâncias) no dataset, utilizando Markdown para formatação\n",
    "display(Markdown('Quantidade de indivíduos (instâncias) no dataset: **{}**'.format(len(df))))"
   ]
  },
  {
   "cell_type": "code",
   "execution_count": 22,
   "id": "d6662924",
   "metadata": {},
   "outputs": [
    {
     "data": {
      "text/markdown": [
       "**Variáveis descritivas do dataset**: 2 variáveis."
      ],
      "text/plain": [
       "<IPython.core.display.Markdown object>"
      ]
     },
     "metadata": {},
     "output_type": "display_data"
    },
    {
     "data": {
      "text/markdown": [
       "**Variáveis descritivas:**: ['email_address', 'name']"
      ],
      "text/plain": [
       "<IPython.core.display.Markdown object>"
      ]
     },
     "metadata": {},
     "output_type": "display_data"
    }
   ],
   "source": [
    "# Calculando e exibindo a quantidade de variáveis descritivas no dataset\n",
    "variaveis_descritivas = df.select_dtypes(include=['object', 'category'])\n",
    "\n",
    "# Exibindo a quantidade de variáveis descritivas (através de len() ) e seus nomes\n",
    "display(Markdown(f'**Variáveis descritivas do dataset**: {variaveis_descritivas.shape[1]} variáveis.'))\n",
    "display(Markdown(f'**Variáveis descritivas:**: {variaveis_descritivas.columns.tolist()}'))"
   ]
  },
  {
   "cell_type": "code",
   "execution_count": 6,
   "id": "a6f3a064",
   "metadata": {},
   "outputs": [
    {
     "data": {
      "text/markdown": [
       "**Quantidade de Pessoas de Interesse**: 18"
      ],
      "text/plain": [
       "<IPython.core.display.Markdown object>"
      ]
     },
     "metadata": {},
     "output_type": "display_data"
    },
    {
     "data": {
      "text/markdown": [
       "**Quantidade de Pessoas fora de interesse**: 128"
      ],
      "text/plain": [
       "<IPython.core.display.Markdown object>"
      ]
     },
     "metadata": {},
     "output_type": "display_data"
    }
   ],
   "source": [
    "# Calculando e exibindo a quantidade de pessoas de interesse (POI) no dataset\n",
    "display(Markdown('**Quantidade de Pessoas de Interesse**: {}'.format(df['poi'].sum())))\n",
    "display(Markdown('**Quantidade de Pessoas fora de interesse**: {}'.format((~df['poi']).sum())))"
   ]
  },
  {
   "cell_type": "code",
   "execution_count": 7,
   "id": "23c09d80",
   "metadata": {},
   "outputs": [
    {
     "data": {
      "text/markdown": [
       "|                  |              bonus |   deferral_payments |   deferred_income |   director_fees |   exercised_stock_options |        expenses |   from_messages |   from_poi_to_this_person |   from_this_person_to_poi |       loan_advances |   long_term_incentive |             other |   restricted_stock |   restricted_stock_deferred |           salary |   shared_receipt_with_poi |   to_messages |     total_payments |   total_stock_value |\n",
       "|:-----------------|-------------------:|--------------------:|------------------:|----------------:|--------------------------:|----------------:|----------------:|--------------------------:|--------------------------:|--------------------:|----------------------:|------------------:|-------------------:|----------------------------:|-----------------:|--------------------------:|--------------:|-------------------:|--------------------:|\n",
       "| Média            |         2374234.61 |          1642674.15 |       -1140475.14 |       166804.88 |                5987053.77 |       108728.92 |          608.79 |                     64.90 |                     41.23 |         41962500.00 |            1470361.45 |         919064.97 |         2321741.14 |                   166410.56 |        562194.29 |                   1176.47 |       2073.86 |         5081526.49 |          6773957.45 |\n",
       "| Mediana          |          769375.00 |           227449.00 |        -159792.00 |       108579.00 |                1310813.50 |        46950.00 |           41.00 |                     35.00 |                      8.00 |         41762500.00 |             442035.00 |          52382.00 |          451740.00 |                  -146975.00 |        259996.00 |                    740.50 |       1211.00 |         1101393.00 |          1102872.50 |\n",
       "| Variância        | 114775396172335.09 |   26645521052091.14 | 16203896512113.12 | 102330514030.11 |        964848252082401.75 | 284659397866.12 |      3389406.00 |                   7565.39 |                  10014.63 | 2216828541666666.75 |     35316388281936.87 | 21061242250265.09 | 156707288526355.62 |           17652554476485.44 | 7378661383806.17 |                1388432.46 |    6670344.36 | 844583360181500.75 | 1517708056259895.75 |\n",
       "| Desvio Padrão    |        10713327.97 |          5161929.97 |        4025406.38 |       319891.41 |               31062006.57 |       533534.81 |         1841.03 |                     86.98 |                    100.07 |         47083208.70 |            5942759.32 |        4589252.91 |        12518278.18 |                  4201494.31 |       2716369.15 |                   1178.32 |       2582.70 |        29061716.40 |         38957772.73 |\n",
       "| 1º Quartil (25%) |          431250.00 |            81573.00 |        -694862.00 |        98784.00 |                 527886.25 |        22614.00 |           22.75 |                     10.00 |                      1.00 |          1600000.00 |             281250.00 |           1215.00 |          254018.00 |                  -389621.75 |        211816.00 |                    249.75 |        541.25 |          394475.00 |           494510.25 |\n",
       "| 3º Quartil (75%) |         1200000.00 |          1002671.50 |         -38346.00 |       113784.00 |                2547724.00 |        79952.50 |          145.50 |                     72.25 |                     24.75 |         82125000.00 |             938672.00 |         362096.00 |         1002369.75 |                   -75009.75 |        312117.00 |                   1888.25 |       2634.75 |         2093263.00 |          2949846.75 |"
      ],
      "text/plain": [
       "<IPython.core.display.Markdown object>"
      ]
     },
     "metadata": {},
     "output_type": "display_data"
    }
   ],
   "source": [
    "# Calculando, criando um novo DataFrame e exibindo a quantidade de variáveis numéricas no dataset original\n",
    "# Criando uma variável que contém somente as colunas numéricas do DataFrame\n",
    "variaveis_numericas = df.select_dtypes(include=['number']).columns\n",
    "resumo = pd.DataFrame({\n",
    "    'Média': df[variaveis_numericas].mean(numeric_only=True),\n",
    "    'Mediana': df[variaveis_numericas].median(numeric_only=True),\n",
    "    'Variância': df[variaveis_numericas].var(numeric_only=True),\n",
    "    'Desvio Padrão': df[variaveis_numericas].std(numeric_only=True),\n",
    "    '1º Quartil (25%)': df[variaveis_numericas].quantile(0.25, numeric_only=True),\n",
    "    '3º Quartil (75%)': df[variaveis_numericas].quantile(0.75, numeric_only=True)\n",
    "}).T\n",
    "\n",
    "display(Markdown(resumo.to_markdown(floatfmt=\".2f\")))"
   ]
  },
  {
   "cell_type": "code",
   "execution_count": 8,
   "id": "6aab120c",
   "metadata": {},
   "outputs": [
    {
     "data": {
      "application/vnd.microsoft.datawrangler.viewer.v0+json": {
       "columns": [
        {
         "name": "index",
         "rawType": "int64",
         "type": "integer"
        },
        {
         "name": "email_address",
         "rawType": "object",
         "type": "unknown"
        },
        {
         "name": "name",
         "rawType": "object",
         "type": "string"
        }
       ],
       "ref": "2af34d1c-4154-4706-8e46-1094abc5c6b4",
       "rows": [
        [
         "0",
         "a..martin@enron.com",
         "ALLEN PHILLIP K"
        ],
        [
         "1",
         "adam.umanoff@enron.com",
         "BADUM JAMES P"
        ],
        [
         "2",
         "andrew.fastow@enron.com",
         "BANNANTINE JAMES M"
        ],
        [
         "3",
         "ben.glisan@enron.com",
         "BAXTER JOHN C"
        ],
        [
         "4",
         "bill.cordes@enron.com",
         "BAY FRANKLIN R"
        ],
        [
         "5",
         "bob.butts@enron.com",
         "BAZELIDES PHILIP J"
        ],
        [
         "6",
         "brian.redmond@enron.com",
         "BECK SALLY W"
        ],
        [
         "7",
         "charlene.jackson@enron.com",
         "BELDEN TIMOTHY N"
        ],
        [
         "8",
         "chip.cox@enron.com",
         "BELFER ROBERT"
        ],
        [
         "9",
         "christopher.calger@enron.com",
         "BERBERIAN DAVID"
        ],
        [
         "10",
         "cindy.olson@enron.com",
         "BERGSIEKER RICHARD P"
        ],
        [
         "11",
         "dan.leff@enron.com",
         "BHATNAGAR SANJAY"
        ],
        [
         "12",
         "dana.gibbs@enron.com",
         "BIBI PHILIPPE A"
        ],
        [
         "13",
         "danny.mccarty@enron.com",
         "BLACHMAN JEREMY M"
        ],
        [
         "14",
         "david.berberian@enron.com",
         "BLAKE JR. NORMAN P"
        ],
        [
         "15",
         "david.delainey@enron.com",
         "BOWEN JR RAYMOND M"
        ],
        [
         "16",
         "david.haug@enron.com",
         "BROWN MICHAEL"
        ],
        [
         "17",
         "dick.westfahl@enron.com",
         "BUCHANAN HAROLD G"
        ],
        [
         "18",
         "diomedes.christodoulou@enron.com",
         "BUTTS ROBERT H"
        ],
        [
         "19",
         "elizabeth.tilney@enron.com",
         "BUY RICHARD B"
        ],
        [
         "20",
         "frank.bay@enron.com",
         "CALGER CHRISTOPHER F"
        ],
        [
         "21",
         "frank.stabler@enron.com",
         "CARTER REBECCA C"
        ],
        [
         "22",
         "gary.hickerson@enron.com",
         "CAUSEY RICHARD A"
        ],
        [
         "23",
         "gene.humphrey@enron.com",
         "CHAN RONNIE"
        ],
        [
         "24",
         "george.mcclellan@enron.com",
         "CHRISTODOULOU DIOMEDES"
        ],
        [
         "25",
         "george.wasaff@enron.com",
         "CLINE KENNETH W"
        ],
        [
         "26",
         "greg.piper@enron.com",
         "COLWELL WESLEY"
        ],
        [
         "27",
         "greg.whalley@enron.com",
         "CORDES WILLIAM R"
        ],
        [
         "28",
         "james.bannantine@enron.com",
         "COX DAVID"
        ],
        [
         "29",
         "james.derrick@enron.com",
         "CUMBERLAND MICHAEL S"
        ],
        [
         "30",
         "james.hughes@enron.com",
         "DEFFNER JOSEPH M"
        ],
        [
         "31",
         "james.prentice@enron.com",
         "DELAINEY DAVID W"
        ],
        [
         "32",
         "janet.dietrich@enron.com",
         "DERRICK JR. JAMES V"
        ],
        [
         "33",
         "jay.fitzgerald@enron.com",
         "DETMERING TIMOTHY J"
        ],
        [
         "34",
         "jeff.donahue@enron.com",
         "DIETRICH JANET R"
        ],
        [
         "35",
         "jeff.skilling@enron.com",
         "DIMICHELE RICHARD G"
        ],
        [
         "36",
         "jeffrey.mcmahon@enron.com",
         "DODSON KEITH"
        ],
        [
         "37",
         "jeffrey.shankman@enron.com",
         "DONAHUE JR JEFFREY M"
        ],
        [
         "38",
         "jeffrey.sherrick@enron.com",
         "DUNCAN JOHN H"
        ],
        [
         "39",
         "jere.overdyke@enron.com",
         "DURAN WILLIAM D"
        ],
        [
         "40",
         "jeremy.blachman@enron.com",
         "ECHOLS JOHN B"
        ],
        [
         "41",
         "jim.fallon@enron.com",
         "ELLIOTT STEVEN"
        ],
        [
         "42",
         "jim.piro@enron.com",
         "FALLON JAMES B"
        ],
        [
         "43",
         "joe.gold@enron.com",
         "FASTOW ANDREW S"
        ],
        [
         "44",
         "joe.hirko@enron.com",
         "FITZGERALD JAY L"
        ],
        [
         "45",
         "joe.kishkill@enron.com",
         "FOWLER PEGGY"
        ],
        [
         "46",
         "john.buchanan@enron.com",
         "FOY JOE"
        ],
        [
         "47",
         "john.echols@enron.com",
         "FREVERT MARK A"
        ],
        [
         "48",
         "john.lavorato@enron.com",
         "FUGH JOHN L"
        ],
        [
         "49",
         "john.sherriff@enron.com",
         "GAHN ROBERT S"
        ]
       ],
       "shape": {
        "columns": 2,
        "rows": 146
       }
      },
      "text/html": [
       "<div>\n",
       "<style scoped>\n",
       "    .dataframe tbody tr th:only-of-type {\n",
       "        vertical-align: middle;\n",
       "    }\n",
       "\n",
       "    .dataframe tbody tr th {\n",
       "        vertical-align: top;\n",
       "    }\n",
       "\n",
       "    .dataframe thead th {\n",
       "        text-align: right;\n",
       "    }\n",
       "</style>\n",
       "<table border=\"1\" class=\"dataframe\">\n",
       "  <thead>\n",
       "    <tr style=\"text-align: right;\">\n",
       "      <th></th>\n",
       "      <th>email_address</th>\n",
       "      <th>name</th>\n",
       "    </tr>\n",
       "  </thead>\n",
       "  <tbody>\n",
       "    <tr>\n",
       "      <th>0</th>\n",
       "      <td>a..martin@enron.com</td>\n",
       "      <td>ALLEN PHILLIP K</td>\n",
       "    </tr>\n",
       "    <tr>\n",
       "      <th>1</th>\n",
       "      <td>adam.umanoff@enron.com</td>\n",
       "      <td>BADUM JAMES P</td>\n",
       "    </tr>\n",
       "    <tr>\n",
       "      <th>2</th>\n",
       "      <td>andrew.fastow@enron.com</td>\n",
       "      <td>BANNANTINE JAMES M</td>\n",
       "    </tr>\n",
       "    <tr>\n",
       "      <th>3</th>\n",
       "      <td>ben.glisan@enron.com</td>\n",
       "      <td>BAXTER JOHN C</td>\n",
       "    </tr>\n",
       "    <tr>\n",
       "      <th>4</th>\n",
       "      <td>bill.cordes@enron.com</td>\n",
       "      <td>BAY FRANKLIN R</td>\n",
       "    </tr>\n",
       "    <tr>\n",
       "      <th>...</th>\n",
       "      <td>...</td>\n",
       "      <td>...</td>\n",
       "    </tr>\n",
       "    <tr>\n",
       "      <th>141</th>\n",
       "      <td>NaN</td>\n",
       "      <td>WINOKUR JR. HERBERT S</td>\n",
       "    </tr>\n",
       "    <tr>\n",
       "      <th>142</th>\n",
       "      <td>NaN</td>\n",
       "      <td>WODRASKA JOHN</td>\n",
       "    </tr>\n",
       "    <tr>\n",
       "      <th>143</th>\n",
       "      <td>NaN</td>\n",
       "      <td>WROBEL BRUCE</td>\n",
       "    </tr>\n",
       "    <tr>\n",
       "      <th>144</th>\n",
       "      <td>NaN</td>\n",
       "      <td>YEAGER F SCOTT</td>\n",
       "    </tr>\n",
       "    <tr>\n",
       "      <th>145</th>\n",
       "      <td>NaN</td>\n",
       "      <td>YEAP SOON</td>\n",
       "    </tr>\n",
       "  </tbody>\n",
       "</table>\n",
       "<p>146 rows × 2 columns</p>\n",
       "</div>"
      ],
      "text/plain": [
       "               email_address                   name\n",
       "0        a..martin@enron.com        ALLEN PHILLIP K\n",
       "1     adam.umanoff@enron.com          BADUM JAMES P\n",
       "2    andrew.fastow@enron.com     BANNANTINE JAMES M\n",
       "3       ben.glisan@enron.com          BAXTER JOHN C\n",
       "4      bill.cordes@enron.com         BAY FRANKLIN R\n",
       "..                       ...                    ...\n",
       "141                      NaN  WINOKUR JR. HERBERT S\n",
       "142                      NaN          WODRASKA JOHN\n",
       "143                      NaN           WROBEL BRUCE\n",
       "144                      NaN         YEAGER F SCOTT\n",
       "145                      NaN              YEAP SOON\n",
       "\n",
       "[146 rows x 2 columns]"
      ]
     },
     "execution_count": 8,
     "metadata": {},
     "output_type": "execute_result"
    }
   ],
   "source": [
    "# Calculando e exibindo a moda das variáveis descritivas do dataset\n",
    "moda = variaveis_descritivas.mode()\n",
    "\n",
    "# Como são variáveis do tipo texto, a moda é apenas uma repetição de todos os valores das variáveis\n",
    "moda"
   ]
  },
  {
   "cell_type": "code",
   "execution_count": 9,
   "id": "b6d754e1",
   "metadata": {},
   "outputs": [
    {
     "name": "stdout",
     "output_type": "stream",
     "text": [
      "\n",
      "Valores únicos da variável email_address:\n",
      "['phillip.allen@enron.com' nan 'james.bannantine@enron.com'\n",
      " 'frank.bay@enron.com' 'sally.beck@enron.com' 'tim.belden@enron.com'\n",
      " 'david.berberian@enron.com' 'rick.bergsieker@enron.com'\n",
      " 'sanjay.bhatnagar@enron.com' 'philippe.bibi@enron.com'\n",
      " 'jeremy.blachman@enron.com' 'raymond.bowen@enron.com'\n",
      " 'michael.brown@enron.com' 'john.buchanan@enron.com' 'bob.butts@enron.com'\n",
      " 'rick.buy@enron.com' 'christopher.calger@enron.com'\n",
      " 'rebecca.carter@enron.com' 'richard.causey@enron.com'\n",
      " 'diomedes.christodoulou@enron.com' 'wes.colwell@enron.com'\n",
      " 'bill.cordes@enron.com' 'chip.cox@enron.com' 'joseph.deffner@enron.com'\n",
      " 'david.delainey@enron.com' 'james.derrick@enron.com'\n",
      " 'timothy.detmering@enron.com' 'janet.dietrich@enron.com'\n",
      " 'richard.dimichele@enron.com' 'keith.dodson@enron.com'\n",
      " 'jeff.donahue@enron.com' 'w.duran@enron.com' 'john.echols@enron.com'\n",
      " 'steven.elliott@enron.com' 'jim.fallon@enron.com'\n",
      " 'andrew.fastow@enron.com' 'jay.fitzgerald@enron.com'\n",
      " 'kulvinder.fowler@enron.com' 'tracy.foy@enron.com'\n",
      " 'mark.frevert@enron.com' 'kevin.garland@enron.com' 'dana.gibbs@enron.com'\n",
      " 'ben.glisan@enron.com' 'joe.gold@enron.com' 'mark.haedicke@enron.com'\n",
      " 'kevin.hannon@enron.com' 'david.haug@enron.com' 'robert.hayes@enron.com'\n",
      " 'rod.hayslett@enron.com' 'robert.hermann@enron.com'\n",
      " 'gary.hickerson@enron.com' 'joe.hirko@enron.com'\n",
      " 'stanley.horton@enron.com' 'james.hughes@enron.com'\n",
      " 'gene.humphrey@enron.com' 'larry.izzo@enron.com'\n",
      " 'charlene.jackson@enron.com' 'vince.kaminski@enron.com'\n",
      " 'steven.kean@enron.com' 'joe.kishkill@enron.com'\n",
      " 'louise.kitchen@enron.com' 'mark.koenig@enron.com'\n",
      " 'michael.kopper@enron.com' 'john.lavorato@enron.com'\n",
      " 'kenneth.lay@enron.com' 'dan.leff@enron.com' 'richard.lewis@enron.com'\n",
      " 'tod.lindholm@enron.com' 'a..martin@enron.com' 'danny.mccarty@enron.com'\n",
      " 'george.mcclellan@enron.com' 'mike.mcconnell@enron.com'\n",
      " 'rebecca.mcdonald@enron.com' 'jeffrey.mcmahon@enron.com'\n",
      " 'mark.metts@enron.com' 'rockford.meyer@enron.com'\n",
      " 'michael.moran@enron.com' 'kristina.mordaunt@enron.com'\n",
      " 's..muller@enron.com' 'julia.murray@enron.com' 'cindy.olson@enron.com'\n",
      " 'jere.overdyke@enron.com' 'lou.pai@enron.com' 'mark.pickering@enron.com'\n",
      " 'greg.piper@enron.com' 'jim.piro@enron.com' 'ken.powers@enron.com'\n",
      " 'james.prentice@enron.com' 'brian.redmond@enron.com' 'ken.rice@enron.com'\n",
      " 'paula.rieker@enron.com' 'matthew.scrimshaw@enron.com'\n",
      " 'jeffrey.shankman@enron.com' 'richard.shapiro@enron.com'\n",
      " 'vicki.sharp@enron.com' 'rex.shelby@enron.com'\n",
      " 'jeffrey.sherrick@enron.com' 'john.sherriff@enron.com'\n",
      " 'jeff.skilling@enron.com' 'frank.stabler@enron.com'\n",
      " 'marty.sunde@enron.com' 'mitchell.taylor@enron.com'\n",
      " 'terence.thorn@enron.com' 'elizabeth.tilney@enron.com'\n",
      " 'adam.umanoff@enron.com' 'rob.walls@enron.com' 'george.wasaff@enron.com'\n",
      " 'dick.westfahl@enron.com' 'greg.whalley@enron.com'\n",
      " 'thomas.white@enron.com' 'john.wodraska@enron.com'\n",
      " 'scott.yeager@enron.com']\n",
      "\n",
      "Valores únicos da variável name:\n",
      "['ALLEN PHILLIP K' 'BADUM JAMES P' 'BANNANTINE JAMES M' 'BAXTER JOHN C'\n",
      " 'BAY FRANKLIN R' 'BAZELIDES PHILIP J' 'BECK SALLY W' 'BELDEN TIMOTHY N'\n",
      " 'BELFER ROBERT' 'BERBERIAN DAVID' 'BERGSIEKER RICHARD P'\n",
      " 'BHATNAGAR SANJAY' 'BIBI PHILIPPE A' 'BLACHMAN JEREMY M'\n",
      " 'BLAKE JR. NORMAN P' 'BOWEN JR RAYMOND M' 'BROWN MICHAEL'\n",
      " 'BUCHANAN HAROLD G' 'BUTTS ROBERT H' 'BUY RICHARD B'\n",
      " 'CALGER CHRISTOPHER F' 'CARTER REBECCA C' 'CAUSEY RICHARD A'\n",
      " 'CHAN RONNIE' 'CHRISTODOULOU DIOMEDES' 'CLINE KENNETH W' 'COLWELL WESLEY'\n",
      " 'CORDES WILLIAM R' 'COX DAVID' 'CUMBERLAND MICHAEL S' 'DEFFNER JOSEPH M'\n",
      " 'DELAINEY DAVID W' 'DERRICK JR. JAMES V' 'DETMERING TIMOTHY J'\n",
      " 'DIETRICH JANET R' 'DIMICHELE RICHARD G' 'DODSON KEITH'\n",
      " 'DONAHUE JR JEFFREY M' 'DUNCAN JOHN H' 'DURAN WILLIAM D' 'ECHOLS JOHN B'\n",
      " 'ELLIOTT STEVEN' 'FALLON JAMES B' 'FASTOW ANDREW S' 'FITZGERALD JAY L'\n",
      " 'FOWLER PEGGY' 'FOY JOE' 'FREVERT MARK A' 'FUGH JOHN L' 'GAHN ROBERT S'\n",
      " 'GARLAND C KEVIN' 'GATHMANN WILLIAM D' 'GIBBS DANA R' 'GILLIS JOHN'\n",
      " 'GLISAN JR BEN F' 'GOLD JOSEPH' 'GRAMM WENDY L' 'GRAY RODNEY'\n",
      " 'HAEDICKE MARK E' 'HANNON KEVIN P' 'HAUG DAVID L' 'HAYES ROBERT E'\n",
      " 'HAYSLETT RODERICK J' 'HERMANN ROBERT J' 'HICKERSON GARY J'\n",
      " 'HIRKO JOSEPH' 'HORTON STANLEY C' 'HUGHES JAMES A' 'HUMPHREY GENE E'\n",
      " 'IZZO LAWRENCE L' 'JACKSON CHARLENE R' 'JAEDICKE ROBERT'\n",
      " 'KAMINSKI WINCENTY J' 'KEAN STEVEN J' 'KISHKILL JOSEPH G'\n",
      " 'KITCHEN LOUISE' 'KOENIG MARK E' 'KOPPER MICHAEL J' 'LAVORATO JOHN J'\n",
      " 'LAY KENNETH L' 'LEFF DANIEL P' 'LEMAISTRE CHARLES' 'LEWIS RICHARD'\n",
      " 'LINDHOLM TOD A' 'LOCKHART EUGENE E' 'LOWRY CHARLES P' 'MARTIN AMANDA K'\n",
      " 'MCCARTY DANNY J' 'MCCLELLAN GEORGE' 'MCCONNELL MICHAEL S'\n",
      " 'MCDONALD REBECCA' 'MCMAHON JEFFREY' 'MENDELSOHN JOHN' 'METTS MARK'\n",
      " 'MEYER JEROME J' 'MEYER ROCKFORD G' 'MORAN MICHAEL P'\n",
      " 'MORDAUNT KRISTINA M' 'MULLER MARK S' 'MURRAY JULIA H' 'NOLES JAMES L'\n",
      " 'OLSON CINDY K' 'OVERDYKE JR JERE C' 'PAI LOU L'\n",
      " 'PEREIRA PAULO V. FERRAZ' 'PICKERING MARK R' 'PIPER GREGORY F' 'PIRO JIM'\n",
      " 'POWERS WILLIAM' 'PRENTICE JAMES' 'REDMOND BRIAN L' 'REYNOLDS LAWRENCE'\n",
      " 'RICE KENNETH D' 'RIEKER PAULA H' 'SAVAGE FRANK' 'SCRIMSHAW MATTHEW'\n",
      " 'SHANKMAN JEFFREY A' 'SHAPIRO RICHARD S' 'SHARP VICTORIA T' 'SHELBY REX'\n",
      " 'SHERRICK JEFFREY B' 'SHERRIFF JOHN R' 'SKILLING JEFFREY K'\n",
      " 'STABLER FRANK' 'SULLIVAN-SHAKLOVITZ COLLEEN' 'SUNDE MARTIN'\n",
      " 'TAYLOR MITCHELL S' 'THE TRAVEL AGENCY IN THE PARK' 'THORN TERENCE H'\n",
      " 'TILNEY ELIZABETH A' 'TOTAL' 'UMANOFF ADAM S' 'URQUHART JOHN A'\n",
      " 'WAKEHAM JOHN' 'WALLS JR ROBERT H' 'WALTERS GARETH W' 'WASAFF GEORGE'\n",
      " 'WESTFAHL RICHARD K' 'WHALEY DAVID A' 'WHALLEY LAWRENCE G'\n",
      " 'WHITE JR THOMAS E' 'WINOKUR JR. HERBERT S' 'WODRASKA JOHN'\n",
      " 'WROBEL BRUCE' 'YEAGER F SCOTT' 'YEAP SOON']\n"
     ]
    }
   ],
   "source": [
    "for coluna in variaveis_descritivas.columns:\n",
    "    print(f'\\nValores únicos da variável {coluna}:')\n",
    "    print(variaveis_descritivas[coluna].unique())"
   ]
  },
  {
   "cell_type": "code",
   "execution_count": 11,
   "id": "c3fde826",
   "metadata": {},
   "outputs": [],
   "source": [
    "for coluna in variaveis_descritivas.columns:\n",
    "    globals()[f'df_{coluna}'] = variaveis_descritivas[[coluna]].dropna().drop_duplicates()"
   ]
  },
  {
   "cell_type": "code",
   "execution_count": 20,
   "id": "18abd963",
   "metadata": {},
   "outputs": [
    {
     "data": {
      "text/markdown": [
       "Valores únicos da variável categórica **email_address**"
      ],
      "text/plain": [
       "<IPython.core.display.Markdown object>"
      ]
     },
     "metadata": {},
     "output_type": "display_data"
    },
    {
     "data": {
      "application/vnd.microsoft.datawrangler.viewer.v0+json": {
       "columns": [
        {
         "name": "index",
         "rawType": "int64",
         "type": "integer"
        },
        {
         "name": "email_address",
         "rawType": "object",
         "type": "string"
        }
       ],
       "ref": "0711acd3-146c-4d14-b360-8fe5a97a811c",
       "rows": [
        [
         "0",
         "phillip.allen@enron.com"
        ],
        [
         "2",
         "james.bannantine@enron.com"
        ],
        [
         "4",
         "frank.bay@enron.com"
        ],
        [
         "6",
         "sally.beck@enron.com"
        ],
        [
         "7",
         "tim.belden@enron.com"
        ],
        [
         "9",
         "david.berberian@enron.com"
        ],
        [
         "10",
         "rick.bergsieker@enron.com"
        ],
        [
         "11",
         "sanjay.bhatnagar@enron.com"
        ],
        [
         "12",
         "philippe.bibi@enron.com"
        ],
        [
         "13",
         "jeremy.blachman@enron.com"
        ],
        [
         "15",
         "raymond.bowen@enron.com"
        ],
        [
         "16",
         "michael.brown@enron.com"
        ],
        [
         "17",
         "john.buchanan@enron.com"
        ],
        [
         "18",
         "bob.butts@enron.com"
        ],
        [
         "19",
         "rick.buy@enron.com"
        ],
        [
         "20",
         "christopher.calger@enron.com"
        ],
        [
         "21",
         "rebecca.carter@enron.com"
        ],
        [
         "22",
         "richard.causey@enron.com"
        ],
        [
         "24",
         "diomedes.christodoulou@enron.com"
        ],
        [
         "26",
         "wes.colwell@enron.com"
        ],
        [
         "27",
         "bill.cordes@enron.com"
        ],
        [
         "28",
         "chip.cox@enron.com"
        ],
        [
         "30",
         "joseph.deffner@enron.com"
        ],
        [
         "31",
         "david.delainey@enron.com"
        ],
        [
         "32",
         "james.derrick@enron.com"
        ],
        [
         "33",
         "timothy.detmering@enron.com"
        ],
        [
         "34",
         "janet.dietrich@enron.com"
        ],
        [
         "35",
         "richard.dimichele@enron.com"
        ],
        [
         "36",
         "keith.dodson@enron.com"
        ],
        [
         "37",
         "jeff.donahue@enron.com"
        ],
        [
         "39",
         "w.duran@enron.com"
        ],
        [
         "40",
         "john.echols@enron.com"
        ],
        [
         "41",
         "steven.elliott@enron.com"
        ],
        [
         "42",
         "jim.fallon@enron.com"
        ],
        [
         "43",
         "andrew.fastow@enron.com"
        ],
        [
         "44",
         "jay.fitzgerald@enron.com"
        ],
        [
         "45",
         "kulvinder.fowler@enron.com"
        ],
        [
         "46",
         "tracy.foy@enron.com"
        ],
        [
         "47",
         "mark.frevert@enron.com"
        ],
        [
         "50",
         "kevin.garland@enron.com"
        ],
        [
         "52",
         "dana.gibbs@enron.com"
        ],
        [
         "54",
         "ben.glisan@enron.com"
        ],
        [
         "55",
         "joe.gold@enron.com"
        ],
        [
         "58",
         "mark.haedicke@enron.com"
        ],
        [
         "59",
         "kevin.hannon@enron.com"
        ],
        [
         "60",
         "david.haug@enron.com"
        ],
        [
         "61",
         "robert.hayes@enron.com"
        ],
        [
         "62",
         "rod.hayslett@enron.com"
        ],
        [
         "63",
         "robert.hermann@enron.com"
        ],
        [
         "64",
         "gary.hickerson@enron.com"
        ]
       ],
       "shape": {
        "columns": 1,
        "rows": 111
       }
      },
      "text/html": [
       "<div>\n",
       "<style scoped>\n",
       "    .dataframe tbody tr th:only-of-type {\n",
       "        vertical-align: middle;\n",
       "    }\n",
       "\n",
       "    .dataframe tbody tr th {\n",
       "        vertical-align: top;\n",
       "    }\n",
       "\n",
       "    .dataframe thead th {\n",
       "        text-align: right;\n",
       "    }\n",
       "</style>\n",
       "<table border=\"1\" class=\"dataframe\">\n",
       "  <thead>\n",
       "    <tr style=\"text-align: right;\">\n",
       "      <th></th>\n",
       "      <th>email_address</th>\n",
       "    </tr>\n",
       "  </thead>\n",
       "  <tbody>\n",
       "    <tr>\n",
       "      <th>0</th>\n",
       "      <td>phillip.allen@enron.com</td>\n",
       "    </tr>\n",
       "    <tr>\n",
       "      <th>2</th>\n",
       "      <td>james.bannantine@enron.com</td>\n",
       "    </tr>\n",
       "    <tr>\n",
       "      <th>4</th>\n",
       "      <td>frank.bay@enron.com</td>\n",
       "    </tr>\n",
       "    <tr>\n",
       "      <th>6</th>\n",
       "      <td>sally.beck@enron.com</td>\n",
       "    </tr>\n",
       "    <tr>\n",
       "      <th>7</th>\n",
       "      <td>tim.belden@enron.com</td>\n",
       "    </tr>\n",
       "    <tr>\n",
       "      <th>...</th>\n",
       "      <td>...</td>\n",
       "    </tr>\n",
       "    <tr>\n",
       "      <th>137</th>\n",
       "      <td>dick.westfahl@enron.com</td>\n",
       "    </tr>\n",
       "    <tr>\n",
       "      <th>139</th>\n",
       "      <td>greg.whalley@enron.com</td>\n",
       "    </tr>\n",
       "    <tr>\n",
       "      <th>140</th>\n",
       "      <td>thomas.white@enron.com</td>\n",
       "    </tr>\n",
       "    <tr>\n",
       "      <th>142</th>\n",
       "      <td>john.wodraska@enron.com</td>\n",
       "    </tr>\n",
       "    <tr>\n",
       "      <th>144</th>\n",
       "      <td>scott.yeager@enron.com</td>\n",
       "    </tr>\n",
       "  </tbody>\n",
       "</table>\n",
       "<p>111 rows × 1 columns</p>\n",
       "</div>"
      ],
      "text/plain": [
       "                  email_address\n",
       "0       phillip.allen@enron.com\n",
       "2    james.bannantine@enron.com\n",
       "4           frank.bay@enron.com\n",
       "6          sally.beck@enron.com\n",
       "7          tim.belden@enron.com\n",
       "..                          ...\n",
       "137     dick.westfahl@enron.com\n",
       "139      greg.whalley@enron.com\n",
       "140      thomas.white@enron.com\n",
       "142     john.wodraska@enron.com\n",
       "144      scott.yeager@enron.com\n",
       "\n",
       "[111 rows x 1 columns]"
      ]
     },
     "execution_count": 20,
     "metadata": {},
     "output_type": "execute_result"
    }
   ],
   "source": [
    "display(Markdown('Valores únicos da variável categórica **email_address**'))\n",
    "df_email_address"
   ]
  },
  {
   "cell_type": "code",
   "execution_count": 19,
   "id": "d4fadd40",
   "metadata": {},
   "outputs": [
    {
     "data": {
      "text/markdown": [
       "Valores únicos da variável categórica **name**"
      ],
      "text/plain": [
       "<IPython.core.display.Markdown object>"
      ]
     },
     "metadata": {},
     "output_type": "display_data"
    },
    {
     "data": {
      "application/vnd.microsoft.datawrangler.viewer.v0+json": {
       "columns": [
        {
         "name": "index",
         "rawType": "int64",
         "type": "integer"
        },
        {
         "name": "name",
         "rawType": "object",
         "type": "string"
        }
       ],
       "ref": "6344268f-9cdb-4c12-96c3-a65bc0705a1a",
       "rows": [
        [
         "0",
         "ALLEN PHILLIP K"
        ],
        [
         "1",
         "BADUM JAMES P"
        ],
        [
         "2",
         "BANNANTINE JAMES M"
        ],
        [
         "3",
         "BAXTER JOHN C"
        ],
        [
         "4",
         "BAY FRANKLIN R"
        ],
        [
         "5",
         "BAZELIDES PHILIP J"
        ],
        [
         "6",
         "BECK SALLY W"
        ],
        [
         "7",
         "BELDEN TIMOTHY N"
        ],
        [
         "8",
         "BELFER ROBERT"
        ],
        [
         "9",
         "BERBERIAN DAVID"
        ],
        [
         "10",
         "BERGSIEKER RICHARD P"
        ],
        [
         "11",
         "BHATNAGAR SANJAY"
        ],
        [
         "12",
         "BIBI PHILIPPE A"
        ],
        [
         "13",
         "BLACHMAN JEREMY M"
        ],
        [
         "14",
         "BLAKE JR. NORMAN P"
        ],
        [
         "15",
         "BOWEN JR RAYMOND M"
        ],
        [
         "16",
         "BROWN MICHAEL"
        ],
        [
         "17",
         "BUCHANAN HAROLD G"
        ],
        [
         "18",
         "BUTTS ROBERT H"
        ],
        [
         "19",
         "BUY RICHARD B"
        ],
        [
         "20",
         "CALGER CHRISTOPHER F"
        ],
        [
         "21",
         "CARTER REBECCA C"
        ],
        [
         "22",
         "CAUSEY RICHARD A"
        ],
        [
         "23",
         "CHAN RONNIE"
        ],
        [
         "24",
         "CHRISTODOULOU DIOMEDES"
        ],
        [
         "25",
         "CLINE KENNETH W"
        ],
        [
         "26",
         "COLWELL WESLEY"
        ],
        [
         "27",
         "CORDES WILLIAM R"
        ],
        [
         "28",
         "COX DAVID"
        ],
        [
         "29",
         "CUMBERLAND MICHAEL S"
        ],
        [
         "30",
         "DEFFNER JOSEPH M"
        ],
        [
         "31",
         "DELAINEY DAVID W"
        ],
        [
         "32",
         "DERRICK JR. JAMES V"
        ],
        [
         "33",
         "DETMERING TIMOTHY J"
        ],
        [
         "34",
         "DIETRICH JANET R"
        ],
        [
         "35",
         "DIMICHELE RICHARD G"
        ],
        [
         "36",
         "DODSON KEITH"
        ],
        [
         "37",
         "DONAHUE JR JEFFREY M"
        ],
        [
         "38",
         "DUNCAN JOHN H"
        ],
        [
         "39",
         "DURAN WILLIAM D"
        ],
        [
         "40",
         "ECHOLS JOHN B"
        ],
        [
         "41",
         "ELLIOTT STEVEN"
        ],
        [
         "42",
         "FALLON JAMES B"
        ],
        [
         "43",
         "FASTOW ANDREW S"
        ],
        [
         "44",
         "FITZGERALD JAY L"
        ],
        [
         "45",
         "FOWLER PEGGY"
        ],
        [
         "46",
         "FOY JOE"
        ],
        [
         "47",
         "FREVERT MARK A"
        ],
        [
         "48",
         "FUGH JOHN L"
        ],
        [
         "49",
         "GAHN ROBERT S"
        ]
       ],
       "shape": {
        "columns": 1,
        "rows": 146
       }
      },
      "text/html": [
       "<div>\n",
       "<style scoped>\n",
       "    .dataframe tbody tr th:only-of-type {\n",
       "        vertical-align: middle;\n",
       "    }\n",
       "\n",
       "    .dataframe tbody tr th {\n",
       "        vertical-align: top;\n",
       "    }\n",
       "\n",
       "    .dataframe thead th {\n",
       "        text-align: right;\n",
       "    }\n",
       "</style>\n",
       "<table border=\"1\" class=\"dataframe\">\n",
       "  <thead>\n",
       "    <tr style=\"text-align: right;\">\n",
       "      <th></th>\n",
       "      <th>name</th>\n",
       "    </tr>\n",
       "  </thead>\n",
       "  <tbody>\n",
       "    <tr>\n",
       "      <th>0</th>\n",
       "      <td>ALLEN PHILLIP K</td>\n",
       "    </tr>\n",
       "    <tr>\n",
       "      <th>1</th>\n",
       "      <td>BADUM JAMES P</td>\n",
       "    </tr>\n",
       "    <tr>\n",
       "      <th>2</th>\n",
       "      <td>BANNANTINE JAMES M</td>\n",
       "    </tr>\n",
       "    <tr>\n",
       "      <th>3</th>\n",
       "      <td>BAXTER JOHN C</td>\n",
       "    </tr>\n",
       "    <tr>\n",
       "      <th>4</th>\n",
       "      <td>BAY FRANKLIN R</td>\n",
       "    </tr>\n",
       "    <tr>\n",
       "      <th>...</th>\n",
       "      <td>...</td>\n",
       "    </tr>\n",
       "    <tr>\n",
       "      <th>141</th>\n",
       "      <td>WINOKUR JR. HERBERT S</td>\n",
       "    </tr>\n",
       "    <tr>\n",
       "      <th>142</th>\n",
       "      <td>WODRASKA JOHN</td>\n",
       "    </tr>\n",
       "    <tr>\n",
       "      <th>143</th>\n",
       "      <td>WROBEL BRUCE</td>\n",
       "    </tr>\n",
       "    <tr>\n",
       "      <th>144</th>\n",
       "      <td>YEAGER F SCOTT</td>\n",
       "    </tr>\n",
       "    <tr>\n",
       "      <th>145</th>\n",
       "      <td>YEAP SOON</td>\n",
       "    </tr>\n",
       "  </tbody>\n",
       "</table>\n",
       "<p>146 rows × 1 columns</p>\n",
       "</div>"
      ],
      "text/plain": [
       "                      name\n",
       "0          ALLEN PHILLIP K\n",
       "1            BADUM JAMES P\n",
       "2       BANNANTINE JAMES M\n",
       "3            BAXTER JOHN C\n",
       "4           BAY FRANKLIN R\n",
       "..                     ...\n",
       "141  WINOKUR JR. HERBERT S\n",
       "142          WODRASKA JOHN\n",
       "143           WROBEL BRUCE\n",
       "144         YEAGER F SCOTT\n",
       "145              YEAP SOON\n",
       "\n",
       "[146 rows x 1 columns]"
      ]
     },
     "execution_count": 19,
     "metadata": {},
     "output_type": "execute_result"
    }
   ],
   "source": [
    "display(Markdown('Valores únicos da variável categórica **name**'))\n",
    "df_name"
   ]
  },
  {
   "cell_type": "code",
   "execution_count": null,
   "id": "e1f193aa",
   "metadata": {},
   "outputs": [
    {
     "data": {
      "application/vnd.microsoft.datawrangler.viewer.v0+json": {
       "columns": [
        {
         "name": "index",
         "rawType": "object",
         "type": "string"
        },
        {
         "name": "bonus",
         "rawType": "float64",
         "type": "float"
        },
        {
         "name": "deferral_payments",
         "rawType": "float64",
         "type": "float"
        },
        {
         "name": "deferred_income",
         "rawType": "float64",
         "type": "float"
        },
        {
         "name": "director_fees",
         "rawType": "float64",
         "type": "float"
        },
        {
         "name": "exercised_stock_options",
         "rawType": "float64",
         "type": "float"
        },
        {
         "name": "expenses",
         "rawType": "float64",
         "type": "float"
        },
        {
         "name": "from_messages",
         "rawType": "float64",
         "type": "float"
        },
        {
         "name": "from_poi_to_this_person",
         "rawType": "float64",
         "type": "float"
        },
        {
         "name": "from_this_person_to_poi",
         "rawType": "float64",
         "type": "float"
        },
        {
         "name": "loan_advances",
         "rawType": "float64",
         "type": "float"
        },
        {
         "name": "long_term_incentive",
         "rawType": "float64",
         "type": "float"
        },
        {
         "name": "other",
         "rawType": "float64",
         "type": "float"
        },
        {
         "name": "restricted_stock",
         "rawType": "float64",
         "type": "float"
        },
        {
         "name": "restricted_stock_deferred",
         "rawType": "float64",
         "type": "float"
        },
        {
         "name": "salary",
         "rawType": "float64",
         "type": "float"
        },
        {
         "name": "shared_receipt_with_poi",
         "rawType": "float64",
         "type": "float"
        },
        {
         "name": "to_messages",
         "rawType": "float64",
         "type": "float"
        },
        {
         "name": "total_payments",
         "rawType": "float64",
         "type": "float"
        },
        {
         "name": "total_stock_value",
         "rawType": "float64",
         "type": "float"
        }
       ],
       "ref": "2fa12447-1983-4036-b874-ed6beb53387d",
       "rows": [
        [
         "count",
         "82.0",
         "39.0",
         "49.0",
         "17.0",
         "102.0",
         "95.0",
         "86.0",
         "86.0",
         "86.0",
         "4.0",
         "66.0",
         "93.0",
         "110.0",
         "18.0",
         "95.0",
         "86.0",
         "86.0",
         "125.0",
         "126.0"
        ],
        [
         "mean",
         "2374234.6097560977",
         "1642674.1538461538",
         "-1140475.142857143",
         "166804.88235294117",
         "5987053.774509804",
         "108728.91578947369",
         "608.7906976744187",
         "64.8953488372093",
         "41.23255813953488",
         "41962500.0",
         "1470361.4545454546",
         "919064.9677419355",
         "2321741.1363636362",
         "166410.55555555556",
         "562194.2947368422",
         "1176.4651162790697",
         "2073.860465116279",
         "5081526.488",
         "6773957.452380952"
        ],
        [
         "std",
         "10713327.969045617",
         "5161929.973574916",
         "4025406.3785055447",
         "319891.4097472927",
         "31062006.568835855",
         "533534.8141088082",
         "1841.033949370836",
         "86.9792441866946",
         "100.07311144048106",
         "47083208.701899946",
         "5942759.315497883",
         "4589252.907638137",
         "12518278.177383486",
         "4201494.314703453",
         "2716369.15455285",
         "1178.3176411624722",
         "2582.700980905754",
         "29061716.401160836",
         "38957772.73227893"
        ],
        [
         "min",
         "70000.0",
         "-102500.0",
         "-27992891.0",
         "3285.0",
         "3285.0",
         "148.0",
         "12.0",
         "0.0",
         "0.0",
         "400000.0",
         "69223.0",
         "2.0",
         "-2604490.0",
         "-7576788.0",
         "477.0",
         "2.0",
         "57.0",
         "148.0",
         "-44093.0"
        ],
        [
         "25%",
         "431250.0",
         "81573.0",
         "-694862.0",
         "98784.0",
         "527886.25",
         "22614.0",
         "22.75",
         "10.0",
         "1.0",
         "1600000.0",
         "281250.0",
         "1215.0",
         "254018.0",
         "-389621.75",
         "211816.0",
         "249.75",
         "541.25",
         "394475.0",
         "494510.25"
        ],
        [
         "50%",
         "769375.0",
         "227449.0",
         "-159792.0",
         "108579.0",
         "1310813.5",
         "46950.0",
         "41.0",
         "35.0",
         "8.0",
         "41762500.0",
         "442035.0",
         "52382.0",
         "451740.0",
         "-146975.0",
         "259996.0",
         "740.5",
         "1211.0",
         "1101393.0",
         "1102872.5"
        ],
        [
         "75%",
         "1200000.0",
         "1002671.5",
         "-38346.0",
         "113784.0",
         "2547724.0",
         "79952.5",
         "145.5",
         "72.25",
         "24.75",
         "82125000.0",
         "938672.0",
         "362096.0",
         "1002369.75",
         "-75009.75",
         "312117.0",
         "1888.25",
         "2634.75",
         "2093263.0",
         "2949846.75"
        ],
        [
         "max",
         "97343619.0",
         "32083396.0",
         "-833.0",
         "1398517.0",
         "311764000.0",
         "5235198.0",
         "14368.0",
         "528.0",
         "609.0",
         "83925000.0",
         "48521928.0",
         "42667589.0",
         "130322299.0",
         "15456290.0",
         "26704229.0",
         "5521.0",
         "15149.0",
         "309886585.0",
         "434509511.0"
        ]
       ],
       "shape": {
        "columns": 19,
        "rows": 8
       }
      },
      "text/html": [
       "<div>\n",
       "<style scoped>\n",
       "    .dataframe tbody tr th:only-of-type {\n",
       "        vertical-align: middle;\n",
       "    }\n",
       "\n",
       "    .dataframe tbody tr th {\n",
       "        vertical-align: top;\n",
       "    }\n",
       "\n",
       "    .dataframe thead th {\n",
       "        text-align: right;\n",
       "    }\n",
       "</style>\n",
       "<table border=\"1\" class=\"dataframe\">\n",
       "  <thead>\n",
       "    <tr style=\"text-align: right;\">\n",
       "      <th></th>\n",
       "      <th>bonus</th>\n",
       "      <th>deferral_payments</th>\n",
       "      <th>deferred_income</th>\n",
       "      <th>director_fees</th>\n",
       "      <th>exercised_stock_options</th>\n",
       "      <th>expenses</th>\n",
       "      <th>from_messages</th>\n",
       "      <th>from_poi_to_this_person</th>\n",
       "      <th>from_this_person_to_poi</th>\n",
       "      <th>loan_advances</th>\n",
       "      <th>long_term_incentive</th>\n",
       "      <th>other</th>\n",
       "      <th>restricted_stock</th>\n",
       "      <th>restricted_stock_deferred</th>\n",
       "      <th>salary</th>\n",
       "      <th>shared_receipt_with_poi</th>\n",
       "      <th>to_messages</th>\n",
       "      <th>total_payments</th>\n",
       "      <th>total_stock_value</th>\n",
       "    </tr>\n",
       "  </thead>\n",
       "  <tbody>\n",
       "    <tr>\n",
       "      <th>count</th>\n",
       "      <td>8.200000e+01</td>\n",
       "      <td>3.900000e+01</td>\n",
       "      <td>4.900000e+01</td>\n",
       "      <td>1.700000e+01</td>\n",
       "      <td>1.020000e+02</td>\n",
       "      <td>9.500000e+01</td>\n",
       "      <td>86.000000</td>\n",
       "      <td>86.000000</td>\n",
       "      <td>86.000000</td>\n",
       "      <td>4.000000e+00</td>\n",
       "      <td>6.600000e+01</td>\n",
       "      <td>9.300000e+01</td>\n",
       "      <td>1.100000e+02</td>\n",
       "      <td>1.800000e+01</td>\n",
       "      <td>9.500000e+01</td>\n",
       "      <td>86.000000</td>\n",
       "      <td>86.000000</td>\n",
       "      <td>1.250000e+02</td>\n",
       "      <td>1.260000e+02</td>\n",
       "    </tr>\n",
       "    <tr>\n",
       "      <th>mean</th>\n",
       "      <td>2.374235e+06</td>\n",
       "      <td>1.642674e+06</td>\n",
       "      <td>-1.140475e+06</td>\n",
       "      <td>1.668049e+05</td>\n",
       "      <td>5.987054e+06</td>\n",
       "      <td>1.087289e+05</td>\n",
       "      <td>608.790698</td>\n",
       "      <td>64.895349</td>\n",
       "      <td>41.232558</td>\n",
       "      <td>4.196250e+07</td>\n",
       "      <td>1.470361e+06</td>\n",
       "      <td>9.190650e+05</td>\n",
       "      <td>2.321741e+06</td>\n",
       "      <td>1.664106e+05</td>\n",
       "      <td>5.621943e+05</td>\n",
       "      <td>1176.465116</td>\n",
       "      <td>2073.860465</td>\n",
       "      <td>5.081526e+06</td>\n",
       "      <td>6.773957e+06</td>\n",
       "    </tr>\n",
       "    <tr>\n",
       "      <th>std</th>\n",
       "      <td>1.071333e+07</td>\n",
       "      <td>5.161930e+06</td>\n",
       "      <td>4.025406e+06</td>\n",
       "      <td>3.198914e+05</td>\n",
       "      <td>3.106201e+07</td>\n",
       "      <td>5.335348e+05</td>\n",
       "      <td>1841.033949</td>\n",
       "      <td>86.979244</td>\n",
       "      <td>100.073111</td>\n",
       "      <td>4.708321e+07</td>\n",
       "      <td>5.942759e+06</td>\n",
       "      <td>4.589253e+06</td>\n",
       "      <td>1.251828e+07</td>\n",
       "      <td>4.201494e+06</td>\n",
       "      <td>2.716369e+06</td>\n",
       "      <td>1178.317641</td>\n",
       "      <td>2582.700981</td>\n",
       "      <td>2.906172e+07</td>\n",
       "      <td>3.895777e+07</td>\n",
       "    </tr>\n",
       "    <tr>\n",
       "      <th>min</th>\n",
       "      <td>7.000000e+04</td>\n",
       "      <td>-1.025000e+05</td>\n",
       "      <td>-2.799289e+07</td>\n",
       "      <td>3.285000e+03</td>\n",
       "      <td>3.285000e+03</td>\n",
       "      <td>1.480000e+02</td>\n",
       "      <td>12.000000</td>\n",
       "      <td>0.000000</td>\n",
       "      <td>0.000000</td>\n",
       "      <td>4.000000e+05</td>\n",
       "      <td>6.922300e+04</td>\n",
       "      <td>2.000000e+00</td>\n",
       "      <td>-2.604490e+06</td>\n",
       "      <td>-7.576788e+06</td>\n",
       "      <td>4.770000e+02</td>\n",
       "      <td>2.000000</td>\n",
       "      <td>57.000000</td>\n",
       "      <td>1.480000e+02</td>\n",
       "      <td>-4.409300e+04</td>\n",
       "    </tr>\n",
       "    <tr>\n",
       "      <th>25%</th>\n",
       "      <td>4.312500e+05</td>\n",
       "      <td>8.157300e+04</td>\n",
       "      <td>-6.948620e+05</td>\n",
       "      <td>9.878400e+04</td>\n",
       "      <td>5.278862e+05</td>\n",
       "      <td>2.261400e+04</td>\n",
       "      <td>22.750000</td>\n",
       "      <td>10.000000</td>\n",
       "      <td>1.000000</td>\n",
       "      <td>1.600000e+06</td>\n",
       "      <td>2.812500e+05</td>\n",
       "      <td>1.215000e+03</td>\n",
       "      <td>2.540180e+05</td>\n",
       "      <td>-3.896218e+05</td>\n",
       "      <td>2.118160e+05</td>\n",
       "      <td>249.750000</td>\n",
       "      <td>541.250000</td>\n",
       "      <td>3.944750e+05</td>\n",
       "      <td>4.945102e+05</td>\n",
       "    </tr>\n",
       "    <tr>\n",
       "      <th>50%</th>\n",
       "      <td>7.693750e+05</td>\n",
       "      <td>2.274490e+05</td>\n",
       "      <td>-1.597920e+05</td>\n",
       "      <td>1.085790e+05</td>\n",
       "      <td>1.310814e+06</td>\n",
       "      <td>4.695000e+04</td>\n",
       "      <td>41.000000</td>\n",
       "      <td>35.000000</td>\n",
       "      <td>8.000000</td>\n",
       "      <td>4.176250e+07</td>\n",
       "      <td>4.420350e+05</td>\n",
       "      <td>5.238200e+04</td>\n",
       "      <td>4.517400e+05</td>\n",
       "      <td>-1.469750e+05</td>\n",
       "      <td>2.599960e+05</td>\n",
       "      <td>740.500000</td>\n",
       "      <td>1211.000000</td>\n",
       "      <td>1.101393e+06</td>\n",
       "      <td>1.102872e+06</td>\n",
       "    </tr>\n",
       "    <tr>\n",
       "      <th>75%</th>\n",
       "      <td>1.200000e+06</td>\n",
       "      <td>1.002672e+06</td>\n",
       "      <td>-3.834600e+04</td>\n",
       "      <td>1.137840e+05</td>\n",
       "      <td>2.547724e+06</td>\n",
       "      <td>7.995250e+04</td>\n",
       "      <td>145.500000</td>\n",
       "      <td>72.250000</td>\n",
       "      <td>24.750000</td>\n",
       "      <td>8.212500e+07</td>\n",
       "      <td>9.386720e+05</td>\n",
       "      <td>3.620960e+05</td>\n",
       "      <td>1.002370e+06</td>\n",
       "      <td>-7.500975e+04</td>\n",
       "      <td>3.121170e+05</td>\n",
       "      <td>1888.250000</td>\n",
       "      <td>2634.750000</td>\n",
       "      <td>2.093263e+06</td>\n",
       "      <td>2.949847e+06</td>\n",
       "    </tr>\n",
       "    <tr>\n",
       "      <th>max</th>\n",
       "      <td>9.734362e+07</td>\n",
       "      <td>3.208340e+07</td>\n",
       "      <td>-8.330000e+02</td>\n",
       "      <td>1.398517e+06</td>\n",
       "      <td>3.117640e+08</td>\n",
       "      <td>5.235198e+06</td>\n",
       "      <td>14368.000000</td>\n",
       "      <td>528.000000</td>\n",
       "      <td>609.000000</td>\n",
       "      <td>8.392500e+07</td>\n",
       "      <td>4.852193e+07</td>\n",
       "      <td>4.266759e+07</td>\n",
       "      <td>1.303223e+08</td>\n",
       "      <td>1.545629e+07</td>\n",
       "      <td>2.670423e+07</td>\n",
       "      <td>5521.000000</td>\n",
       "      <td>15149.000000</td>\n",
       "      <td>3.098866e+08</td>\n",
       "      <td>4.345095e+08</td>\n",
       "    </tr>\n",
       "  </tbody>\n",
       "</table>\n",
       "</div>"
      ],
      "text/plain": [
       "              bonus  deferral_payments  deferred_income  director_fees  \\\n",
       "count  8.200000e+01       3.900000e+01     4.900000e+01   1.700000e+01   \n",
       "mean   2.374235e+06       1.642674e+06    -1.140475e+06   1.668049e+05   \n",
       "std    1.071333e+07       5.161930e+06     4.025406e+06   3.198914e+05   \n",
       "min    7.000000e+04      -1.025000e+05    -2.799289e+07   3.285000e+03   \n",
       "25%    4.312500e+05       8.157300e+04    -6.948620e+05   9.878400e+04   \n",
       "50%    7.693750e+05       2.274490e+05    -1.597920e+05   1.085790e+05   \n",
       "75%    1.200000e+06       1.002672e+06    -3.834600e+04   1.137840e+05   \n",
       "max    9.734362e+07       3.208340e+07    -8.330000e+02   1.398517e+06   \n",
       "\n",
       "       exercised_stock_options      expenses  from_messages  \\\n",
       "count             1.020000e+02  9.500000e+01      86.000000   \n",
       "mean              5.987054e+06  1.087289e+05     608.790698   \n",
       "std               3.106201e+07  5.335348e+05    1841.033949   \n",
       "min               3.285000e+03  1.480000e+02      12.000000   \n",
       "25%               5.278862e+05  2.261400e+04      22.750000   \n",
       "50%               1.310814e+06  4.695000e+04      41.000000   \n",
       "75%               2.547724e+06  7.995250e+04     145.500000   \n",
       "max               3.117640e+08  5.235198e+06   14368.000000   \n",
       "\n",
       "       from_poi_to_this_person  from_this_person_to_poi  loan_advances  \\\n",
       "count                86.000000                86.000000   4.000000e+00   \n",
       "mean                 64.895349                41.232558   4.196250e+07   \n",
       "std                  86.979244               100.073111   4.708321e+07   \n",
       "min                   0.000000                 0.000000   4.000000e+05   \n",
       "25%                  10.000000                 1.000000   1.600000e+06   \n",
       "50%                  35.000000                 8.000000   4.176250e+07   \n",
       "75%                  72.250000                24.750000   8.212500e+07   \n",
       "max                 528.000000               609.000000   8.392500e+07   \n",
       "\n",
       "       long_term_incentive         other  restricted_stock  \\\n",
       "count         6.600000e+01  9.300000e+01      1.100000e+02   \n",
       "mean          1.470361e+06  9.190650e+05      2.321741e+06   \n",
       "std           5.942759e+06  4.589253e+06      1.251828e+07   \n",
       "min           6.922300e+04  2.000000e+00     -2.604490e+06   \n",
       "25%           2.812500e+05  1.215000e+03      2.540180e+05   \n",
       "50%           4.420350e+05  5.238200e+04      4.517400e+05   \n",
       "75%           9.386720e+05  3.620960e+05      1.002370e+06   \n",
       "max           4.852193e+07  4.266759e+07      1.303223e+08   \n",
       "\n",
       "       restricted_stock_deferred        salary  shared_receipt_with_poi  \\\n",
       "count               1.800000e+01  9.500000e+01                86.000000   \n",
       "mean                1.664106e+05  5.621943e+05              1176.465116   \n",
       "std                 4.201494e+06  2.716369e+06              1178.317641   \n",
       "min                -7.576788e+06  4.770000e+02                 2.000000   \n",
       "25%                -3.896218e+05  2.118160e+05               249.750000   \n",
       "50%                -1.469750e+05  2.599960e+05               740.500000   \n",
       "75%                -7.500975e+04  3.121170e+05              1888.250000   \n",
       "max                 1.545629e+07  2.670423e+07              5521.000000   \n",
       "\n",
       "        to_messages  total_payments  total_stock_value  \n",
       "count     86.000000    1.250000e+02       1.260000e+02  \n",
       "mean    2073.860465    5.081526e+06       6.773957e+06  \n",
       "std     2582.700981    2.906172e+07       3.895777e+07  \n",
       "min       57.000000    1.480000e+02      -4.409300e+04  \n",
       "25%      541.250000    3.944750e+05       4.945102e+05  \n",
       "50%     1211.000000    1.101393e+06       1.102872e+06  \n",
       "75%     2634.750000    2.093263e+06       2.949847e+06  \n",
       "max    15149.000000    3.098866e+08       4.345095e+08  "
      ]
     },
     "execution_count": 12,
     "metadata": {},
     "output_type": "execute_result"
    }
   ],
   "source": [
    "df.describe()"
   ]
  },
  {
   "cell_type": "code",
   "execution_count": null,
   "id": "f6eda480",
   "metadata": {},
   "outputs": [
    {
     "name": "stdout",
     "output_type": "stream",
     "text": [
      "<class 'pandas.core.frame.DataFrame'>\n",
      "RangeIndex: 146 entries, 0 to 145\n",
      "Data columns (total 22 columns):\n",
      " #   Column                     Non-Null Count  Dtype  \n",
      "---  ------                     --------------  -----  \n",
      " 0   bonus                      82 non-null     float64\n",
      " 1   deferral_payments          39 non-null     float64\n",
      " 2   deferred_income            49 non-null     float64\n",
      " 3   director_fees              17 non-null     float64\n",
      " 4   email_address              111 non-null    object \n",
      " 5   exercised_stock_options    102 non-null    float64\n",
      " 6   expenses                   95 non-null     float64\n",
      " 7   from_messages              86 non-null     float64\n",
      " 8   from_poi_to_this_person    86 non-null     float64\n",
      " 9   from_this_person_to_poi    86 non-null     float64\n",
      " 10  loan_advances              4 non-null      float64\n",
      " 11  long_term_incentive        66 non-null     float64\n",
      " 12  other                      93 non-null     float64\n",
      " 13  poi                        146 non-null    bool   \n",
      " 14  restricted_stock           110 non-null    float64\n",
      " 15  restricted_stock_deferred  18 non-null     float64\n",
      " 16  salary                     95 non-null     float64\n",
      " 17  shared_receipt_with_poi    86 non-null     float64\n",
      " 18  to_messages                86 non-null     float64\n",
      " 19  total_payments             125 non-null    float64\n",
      " 20  total_stock_value          126 non-null    float64\n",
      " 21  name                       146 non-null    object \n",
      "dtypes: bool(1), float64(19), object(2)\n",
      "memory usage: 24.2+ KB\n"
     ]
    }
   ],
   "source": [
    "df.info()"
   ]
  }
 ],
 "metadata": {
  "kernelspec": {
   "display_name": "Python 3",
   "language": "python",
   "name": "python3"
  },
  "language_info": {
   "codemirror_mode": {
    "name": "ipython",
    "version": 3
   },
   "file_extension": ".py",
   "mimetype": "text/x-python",
   "name": "python",
   "nbconvert_exporter": "python",
   "pygments_lexer": "ipython3",
   "version": "3.11.13"
  }
 },
 "nbformat": 4,
 "nbformat_minor": 5
}
