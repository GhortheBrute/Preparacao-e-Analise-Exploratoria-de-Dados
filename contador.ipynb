{
 "cells": [
  {
   "cell_type": "code",
   "execution_count": 30,
   "id": "103a9d4e",
   "metadata": {},
   "outputs": [],
   "source": [
    "import re\n",
    "import pandas as pd\n",
    "\n",
    "def contar_caracteres_e_verificar(textos, meta=2500, ignorar_espacos=True):\n",
    "    total_caracteres = 0\n",
    "\n",
    "    for texto in textos:\n",
    "        if ignorar_espacos:\n",
    "            texto = texto.replace(' ', '')  # remove espaços\n",
    "        total_caracteres += len(texto)\n",
    "\n",
    "    if total_caracteres >= meta:\n",
    "        print(\"Concluído\")\n",
    "    else:\n",
    "        restante = meta - total_caracteres\n",
    "        print(f\"Faltam {restante} caracteres para atingir a meta.\")\n",
    "\n",
    "    return total_caracteres\n",
    "\n",
    "\n",
    "def contar_caracteres_csv(caminho_csv, meta=2500, ignorar_espacos=True):\n",
    "    # Lê o CSV, assumindo que há apenas uma coluna\n",
    "    df = pd.read_csv(caminho_csv, header=None, dtype=str, sep='[')\n",
    "    \n",
    "    # Concatena todas as linhas em uma única string\n",
    "    texto_total = ' '.join(df[0].dropna().astype(str))\n",
    "\n",
    "    # Remove vírgulas, ponto e vírgula e outros separadores\n",
    "    #texto_limpo = re.sub(r'[;,]', '', texto_total)\n",
    "\n",
    "    # Opcional: remover espaços\n",
    "    if ignorar_espacos:\n",
    "        texto_total = texto_total.replace(' ', '')\n",
    "\n",
    "    total_caracteres = len(texto_total)\n",
    "\n",
    "    # Verificação da meta\n",
    "    if total_caracteres >= meta:\n",
    "        print(\"Concluído\")\n",
    "    else:\n",
    "        print(f\"Faltam {meta - total_caracteres} caracteres para atingir a meta.\")\n",
    "\n",
    "    return total_caracteres\n",
    "\n",
    "# Exemplo de uso:\n",
    "#vetor_markdown = [\n",
    "   # \"## Título da Seção\",\n",
    "   # \"Este é um parágrafo com algumas palavras.\",\n",
    "   # \"- Lista com itens\",\n",
    "    #\"**Texto em negrito** e `código` embutido.\"\n",
    "#]\n",
    "\n",
    "#total = contar_caracteres_e_verificar(vetor_markdown)\n",
    "#print(f\"Total de caracteres (sem espaços): {total}\")\n",
    "\n",
    "\n",
    "\n",
    "def extrair_strings(vetor):\n",
    "    return [re.search(r'\\[(.*?)\\]', item).group(1) for item in vetor if re.search(r'\\[(.*?)\\]', item)]\n"
   ]
  },
  {
   "cell_type": "code",
   "execution_count": 18,
   "id": "2d0407d3",
   "metadata": {},
   "outputs": [
    {
     "ename": "SyntaxError",
     "evalue": "invalid syntax. Perhaps you forgot a comma? (2886677101.py, line 2)",
     "output_type": "error",
     "traceback": [
      "\u001b[1;36m  Cell \u001b[1;32mIn[18], line 2\u001b[1;36m\u001b[0m\n\u001b[1;33m    Considero que este foi um projeto interessante de trabalhar, pois pode-se aplicar os mais variados conteúdos para visualizar as diversas relações entre as variáveis.\u001b[0m\n\u001b[1;37m    ^\u001b[0m\n\u001b[1;31mSyntaxError\u001b[0m\u001b[1;31m:\u001b[0m invalid syntax. Perhaps you forgot a comma?\n"
     ]
    }
   ],
   "source": [
    "vetor = [\n",
    "    Considero que este foi um projeto interessante de trabalhar, pois pode-se aplicar os mais variados conteúdos para visualizar as diversas relações entre as variáveis. \n",
    "Pode-se perceber a evolução da utilização dos conceitos aprendidos durante as leituras da disciplina, fazendo coisas novas a cada passo.\n",
    "\n",
    "Infelizmente acabei acumulando para resolver muita coisa em cima da hora, o que acabou impedindo que eu pudesse caprichar mais nas visualizações criadas. Além de que as etapas 3 e 4 foram realizadas após todo o material sobre análises multivariadas, o que se faz perceber quando se observa as visualizações criadas com estilos dos últimos assuntos.\n",
    "\n",
    "Também considero que faltou mais diversidade de visualizações na parte de análise univariada, percebe-se que utilizei apenas os modelos referentes aos ensinados nos materiais. Como utilizar as simples visualizações de barras, linhas, área, etc. Somente após eu iniciar a etapa 3 que percebi que nos dados havia uma linha onde constava o TOTAL de quase todas as variáveis numéricas, necessitando revisar todo o trabalho feito nas etapas 1 e 2 dessa Atividade Prática, felizmente não causou alterações suficiente nas análises univariadas. Aprendi sobre tipos de visualização que carregam mais rápido ou mais lentamente. Queria também ter tido mais tempo hábil para tratar de diversas formas os dados ausentes das diversas colunas.\n",
    "\n",
    "Algumas das visualizações utilizadas podem trazer um ponto fraco, outras um ponto forte de visualização, mas achei interessante trabalhar com elas para saber, futuramente, qual visualização pode responder que questão. Além das diferentes questões de personalização de cada visualização, pois haviam visualizações que permitiam a personalização pelo plt, outras através de axes.\n",
    "\n",
    "Posso dizer que foi um bom aprendizado mexer com esse dataset, inclusive a parte em que tive que reavaliar o trabalho após a exclusão da linha TOTAL, um bom aprendizado do que pode ocorrer num emprego, com uma quantidade de dados centenas de vezes maior, onde esse mesmo erro poderia causar um atrasado de dias, semanas ou até obrigar a reiniciar os trabalhos do zero. Imagino o quão diferente será trabalhar com uma quantidade exorbitante de dados. Aprender quais métodos são melhores para qual situação, etc.\n",
    "\n",
    "Espero aprender mais sobre como trabalhar com big data, além de que seria bom tirar uns dias para mexer um pouco usando o HDFS disponibilizado para os alunos, pois, como foi até mostrado na própria disciplina, existem diferenças de se trabalhar com pandas e spark ou outras ferramentas de big data, então espero aprender cada vez mais sobre esses diversos assuntos, poder praticar mais e aprender a fazer um portifólio apresentável. Felizmente vou tentar aproveitar o período de férias para aprender mais sobre tratamento de dados ausentes, imputação, ML, entre outros.\n",
    "\n",
    "Além de também aprender outras ferramentas como o Power BI, Google Looker Studio, Tableau, Amazon QuickSight e o Azure Workbooks.\n",
    "]"
   ]
  },
  {
   "cell_type": "code",
   "execution_count": null,
   "id": "5405d15c",
   "metadata": {},
   "outputs": [
    {
     "name": "stdout",
     "output_type": "stream",
     "text": [
      "Concluído\n"
     ]
    },
    {
     "data": {
      "text/plain": [
       "2510"
      ]
     },
     "execution_count": 15,
     "metadata": {},
     "output_type": "execute_result"
    }
   ],
   "source": [
    "vetor_processado = extrair_strings(vetor)\n",
    "contar_caracteres_e_verificar(vetor_processado)"
   ]
  },
  {
   "cell_type": "code",
   "execution_count": 35,
   "id": "17d20591",
   "metadata": {},
   "outputs": [
    {
     "name": "stdout",
     "output_type": "stream",
     "text": [
      "Faltam 1044 caracteres para atingir a meta.\n",
      "Total de caracteres: 1456\n"
     ]
    }
   ],
   "source": [
    "total = contar_caracteres_csv('Dados/texto.csv')\n",
    "print(f'Total de caracteres: {total}')"
   ]
  }
 ],
 "metadata": {
  "kernelspec": {
   "display_name": "Python 3",
   "language": "python",
   "name": "python3"
  },
  "language_info": {
   "codemirror_mode": {
    "name": "ipython",
    "version": 3
   },
   "file_extension": ".py",
   "mimetype": "text/x-python",
   "name": "python",
   "nbconvert_exporter": "python",
   "pygments_lexer": "ipython3",
   "version": "3.11.13"
  }
 },
 "nbformat": 4,
 "nbformat_minor": 5
}
