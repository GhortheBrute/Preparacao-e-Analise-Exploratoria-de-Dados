{
 "cells": [
  {
   "cell_type": "code",
   "execution_count": 13,
   "id": "f4308e25",
   "metadata": {},
   "outputs": [],
   "source": [
    "import pandas as pd\n",
    "import matplotlib.pyplot as plt\n",
    "import numpy as np\n",
    "import seaborn as sns\n",
    "\n",
    "%matplotlib inline"
   ]
  },
  {
   "cell_type": "code",
   "execution_count": 2,
   "id": "e014d9d9",
   "metadata": {},
   "outputs": [],
   "source": [
    "colunas = ['ID_do_usuário' , 'ID_do_filme' , 'classificação' , 'timestamp']\n",
    "\n",
    "df_ranking = pd.read_csv('Dados/filmesranking.txt', header=None, names=colunas, sep='\\t')\n",
    "df_filmes = pd.read_csv('Dados/idfilmestitulos.txt')"
   ]
  },
  {
   "cell_type": "code",
   "execution_count": 3,
   "id": "6e529fb7",
   "metadata": {},
   "outputs": [
    {
     "data": {
      "application/vnd.microsoft.datawrangler.viewer.v0+json": {
       "columns": [
        {
         "name": "index",
         "rawType": "int64",
         "type": "integer"
        },
        {
         "name": "ID_do_usuário",
         "rawType": "int64",
         "type": "integer"
        },
        {
         "name": "ID_do_filme",
         "rawType": "int64",
         "type": "integer"
        },
        {
         "name": "classificação",
         "rawType": "int64",
         "type": "integer"
        },
        {
         "name": "timestamp",
         "rawType": "datetime64[ns]",
         "type": "datetime"
        }
       ],
       "ref": "24380ffc-77b1-4e92-9cd2-9ebdab39fe0c",
       "rows": [
        [
         "57284",
         "554",
         "1",
         "3",
         "1997-10-07 13:45:38"
        ],
        [
         "57582",
         "790",
         "1",
         "3",
         "1998-01-10 19:41:46"
        ],
        [
         "19044",
         "396",
         "1",
         "4",
         "1998-01-12 23:05:46"
        ],
        [
         "57252",
         "807",
         "1",
         "4",
         "1998-04-14 04:30:31"
        ],
        [
         "3414",
         "232",
         "1",
         "4",
         "1997-11-20 21:45:02"
        ],
        [
         "19311",
         "339",
         "1",
         "5",
         "1998-03-27 20:59:09"
        ],
        [
         "56863",
         "634",
         "1",
         "3",
         "1997-10-01 18:01:12"
        ],
        [
         "18953",
         "160",
         "1",
         "4",
         "1997-10-13 18:40:25"
        ],
        [
         "56672",
         "761",
         "1",
         "1",
         "1997-10-07 02:08:14"
        ],
        [
         "56499",
         "134",
         "1",
         "5",
         "1998-04-04 23:32:36"
        ]
       ],
       "shape": {
        "columns": 4,
        "rows": 10
       }
      },
      "text/html": [
       "<div>\n",
       "<style scoped>\n",
       "    .dataframe tbody tr th:only-of-type {\n",
       "        vertical-align: middle;\n",
       "    }\n",
       "\n",
       "    .dataframe tbody tr th {\n",
       "        vertical-align: top;\n",
       "    }\n",
       "\n",
       "    .dataframe thead th {\n",
       "        text-align: right;\n",
       "    }\n",
       "</style>\n",
       "<table border=\"1\" class=\"dataframe\">\n",
       "  <thead>\n",
       "    <tr style=\"text-align: right;\">\n",
       "      <th></th>\n",
       "      <th>ID_do_usuário</th>\n",
       "      <th>ID_do_filme</th>\n",
       "      <th>classificação</th>\n",
       "      <th>timestamp</th>\n",
       "    </tr>\n",
       "  </thead>\n",
       "  <tbody>\n",
       "    <tr>\n",
       "      <th>57284</th>\n",
       "      <td>554</td>\n",
       "      <td>1</td>\n",
       "      <td>3</td>\n",
       "      <td>1997-10-07 13:45:38</td>\n",
       "    </tr>\n",
       "    <tr>\n",
       "      <th>57582</th>\n",
       "      <td>790</td>\n",
       "      <td>1</td>\n",
       "      <td>3</td>\n",
       "      <td>1998-01-10 19:41:46</td>\n",
       "    </tr>\n",
       "    <tr>\n",
       "      <th>19044</th>\n",
       "      <td>396</td>\n",
       "      <td>1</td>\n",
       "      <td>4</td>\n",
       "      <td>1998-01-12 23:05:46</td>\n",
       "    </tr>\n",
       "    <tr>\n",
       "      <th>57252</th>\n",
       "      <td>807</td>\n",
       "      <td>1</td>\n",
       "      <td>4</td>\n",
       "      <td>1998-04-14 04:30:31</td>\n",
       "    </tr>\n",
       "    <tr>\n",
       "      <th>3414</th>\n",
       "      <td>232</td>\n",
       "      <td>1</td>\n",
       "      <td>4</td>\n",
       "      <td>1997-11-20 21:45:02</td>\n",
       "    </tr>\n",
       "    <tr>\n",
       "      <th>19311</th>\n",
       "      <td>339</td>\n",
       "      <td>1</td>\n",
       "      <td>5</td>\n",
       "      <td>1998-03-27 20:59:09</td>\n",
       "    </tr>\n",
       "    <tr>\n",
       "      <th>56863</th>\n",
       "      <td>634</td>\n",
       "      <td>1</td>\n",
       "      <td>3</td>\n",
       "      <td>1997-10-01 18:01:12</td>\n",
       "    </tr>\n",
       "    <tr>\n",
       "      <th>18953</th>\n",
       "      <td>160</td>\n",
       "      <td>1</td>\n",
       "      <td>4</td>\n",
       "      <td>1997-10-13 18:40:25</td>\n",
       "    </tr>\n",
       "    <tr>\n",
       "      <th>56672</th>\n",
       "      <td>761</td>\n",
       "      <td>1</td>\n",
       "      <td>1</td>\n",
       "      <td>1997-10-07 02:08:14</td>\n",
       "    </tr>\n",
       "    <tr>\n",
       "      <th>56499</th>\n",
       "      <td>134</td>\n",
       "      <td>1</td>\n",
       "      <td>5</td>\n",
       "      <td>1998-04-04 23:32:36</td>\n",
       "    </tr>\n",
       "  </tbody>\n",
       "</table>\n",
       "</div>"
      ],
      "text/plain": [
       "       ID_do_usuário  ID_do_filme  classificação           timestamp\n",
       "57284            554            1              3 1997-10-07 13:45:38\n",
       "57582            790            1              3 1998-01-10 19:41:46\n",
       "19044            396            1              4 1998-01-12 23:05:46\n",
       "57252            807            1              4 1998-04-14 04:30:31\n",
       "3414             232            1              4 1997-11-20 21:45:02\n",
       "19311            339            1              5 1998-03-27 20:59:09\n",
       "56863            634            1              3 1997-10-01 18:01:12\n",
       "18953            160            1              4 1997-10-13 18:40:25\n",
       "56672            761            1              1 1997-10-07 02:08:14\n",
       "56499            134            1              5 1998-04-04 23:32:36"
      ]
     },
     "execution_count": 3,
     "metadata": {},
     "output_type": "execute_result"
    }
   ],
   "source": [
    "df_ranking['timestamp'] = pd.to_datetime(df_ranking['timestamp'], unit='s')\n",
    "df_ranking.sort_values(by='ID_do_filme', inplace=True)\n",
    "\n",
    "df_ranking.head(10)"
   ]
  },
  {
   "cell_type": "code",
   "execution_count": 4,
   "id": "fdbb1fe9",
   "metadata": {},
   "outputs": [
    {
     "data": {
      "application/vnd.microsoft.datawrangler.viewer.v0+json": {
       "columns": [
        {
         "name": "index",
         "rawType": "int64",
         "type": "integer"
        },
        {
         "name": "item_id",
         "rawType": "int64",
         "type": "integer"
        },
        {
         "name": "title",
         "rawType": "object",
         "type": "string"
        }
       ],
       "ref": "e6c2c31e-5100-4a23-aabf-4dd789d7b7ac",
       "rows": [
        [
         "0",
         "1",
         "Toy Story (1995)"
        ],
        [
         "1",
         "2",
         "GoldenEye (1995)"
        ],
        [
         "2",
         "3",
         "Four Rooms (1995)"
        ],
        [
         "3",
         "4",
         "Get Shorty (1995)"
        ],
        [
         "4",
         "5",
         "Copycat (1995)"
        ]
       ],
       "shape": {
        "columns": 2,
        "rows": 5
       }
      },
      "text/html": [
       "<div>\n",
       "<style scoped>\n",
       "    .dataframe tbody tr th:only-of-type {\n",
       "        vertical-align: middle;\n",
       "    }\n",
       "\n",
       "    .dataframe tbody tr th {\n",
       "        vertical-align: top;\n",
       "    }\n",
       "\n",
       "    .dataframe thead th {\n",
       "        text-align: right;\n",
       "    }\n",
       "</style>\n",
       "<table border=\"1\" class=\"dataframe\">\n",
       "  <thead>\n",
       "    <tr style=\"text-align: right;\">\n",
       "      <th></th>\n",
       "      <th>item_id</th>\n",
       "      <th>title</th>\n",
       "    </tr>\n",
       "  </thead>\n",
       "  <tbody>\n",
       "    <tr>\n",
       "      <th>0</th>\n",
       "      <td>1</td>\n",
       "      <td>Toy Story (1995)</td>\n",
       "    </tr>\n",
       "    <tr>\n",
       "      <th>1</th>\n",
       "      <td>2</td>\n",
       "      <td>GoldenEye (1995)</td>\n",
       "    </tr>\n",
       "    <tr>\n",
       "      <th>2</th>\n",
       "      <td>3</td>\n",
       "      <td>Four Rooms (1995)</td>\n",
       "    </tr>\n",
       "    <tr>\n",
       "      <th>3</th>\n",
       "      <td>4</td>\n",
       "      <td>Get Shorty (1995)</td>\n",
       "    </tr>\n",
       "    <tr>\n",
       "      <th>4</th>\n",
       "      <td>5</td>\n",
       "      <td>Copycat (1995)</td>\n",
       "    </tr>\n",
       "  </tbody>\n",
       "</table>\n",
       "</div>"
      ],
      "text/plain": [
       "   item_id              title\n",
       "0        1   Toy Story (1995)\n",
       "1        2   GoldenEye (1995)\n",
       "2        3  Four Rooms (1995)\n",
       "3        4  Get Shorty (1995)\n",
       "4        5     Copycat (1995)"
      ]
     },
     "execution_count": 4,
     "metadata": {},
     "output_type": "execute_result"
    }
   ],
   "source": [
    "df_filmes.head()"
   ]
  },
  {
   "cell_type": "code",
   "execution_count": 6,
   "id": "c851a2b4",
   "metadata": {},
   "outputs": [
    {
     "data": {
      "application/vnd.microsoft.datawrangler.viewer.v0+json": {
       "columns": [
        {
         "name": "index",
         "rawType": "int64",
         "type": "integer"
        },
        {
         "name": "ID_do_usuário",
         "rawType": "int64",
         "type": "integer"
        },
        {
         "name": "ID_do_filme",
         "rawType": "int64",
         "type": "integer"
        },
        {
         "name": "classificação",
         "rawType": "int64",
         "type": "integer"
        },
        {
         "name": "timestamp",
         "rawType": "datetime64[ns]",
         "type": "datetime"
        },
        {
         "name": "title",
         "rawType": "object",
         "type": "string"
        }
       ],
       "ref": "661423f5-c2bd-4481-aa29-1d609dbee343",
       "rows": [
        [
         "0",
         "554",
         "1",
         "3",
         "1997-10-07 13:45:38",
         "Toy Story (1995)"
        ],
        [
         "1",
         "790",
         "1",
         "3",
         "1998-01-10 19:41:46",
         "Toy Story (1995)"
        ],
        [
         "2",
         "396",
         "1",
         "4",
         "1998-01-12 23:05:46",
         "Toy Story (1995)"
        ],
        [
         "3",
         "807",
         "1",
         "4",
         "1998-04-14 04:30:31",
         "Toy Story (1995)"
        ],
        [
         "4",
         "232",
         "1",
         "4",
         "1997-11-20 21:45:02",
         "Toy Story (1995)"
        ]
       ],
       "shape": {
        "columns": 5,
        "rows": 5
       }
      },
      "text/html": [
       "<div>\n",
       "<style scoped>\n",
       "    .dataframe tbody tr th:only-of-type {\n",
       "        vertical-align: middle;\n",
       "    }\n",
       "\n",
       "    .dataframe tbody tr th {\n",
       "        vertical-align: top;\n",
       "    }\n",
       "\n",
       "    .dataframe thead th {\n",
       "        text-align: right;\n",
       "    }\n",
       "</style>\n",
       "<table border=\"1\" class=\"dataframe\">\n",
       "  <thead>\n",
       "    <tr style=\"text-align: right;\">\n",
       "      <th></th>\n",
       "      <th>ID_do_usuário</th>\n",
       "      <th>ID_do_filme</th>\n",
       "      <th>classificação</th>\n",
       "      <th>timestamp</th>\n",
       "      <th>title</th>\n",
       "    </tr>\n",
       "  </thead>\n",
       "  <tbody>\n",
       "    <tr>\n",
       "      <th>0</th>\n",
       "      <td>554</td>\n",
       "      <td>1</td>\n",
       "      <td>3</td>\n",
       "      <td>1997-10-07 13:45:38</td>\n",
       "      <td>Toy Story (1995)</td>\n",
       "    </tr>\n",
       "    <tr>\n",
       "      <th>1</th>\n",
       "      <td>790</td>\n",
       "      <td>1</td>\n",
       "      <td>3</td>\n",
       "      <td>1998-01-10 19:41:46</td>\n",
       "      <td>Toy Story (1995)</td>\n",
       "    </tr>\n",
       "    <tr>\n",
       "      <th>2</th>\n",
       "      <td>396</td>\n",
       "      <td>1</td>\n",
       "      <td>4</td>\n",
       "      <td>1998-01-12 23:05:46</td>\n",
       "      <td>Toy Story (1995)</td>\n",
       "    </tr>\n",
       "    <tr>\n",
       "      <th>3</th>\n",
       "      <td>807</td>\n",
       "      <td>1</td>\n",
       "      <td>4</td>\n",
       "      <td>1998-04-14 04:30:31</td>\n",
       "      <td>Toy Story (1995)</td>\n",
       "    </tr>\n",
       "    <tr>\n",
       "      <th>4</th>\n",
       "      <td>232</td>\n",
       "      <td>1</td>\n",
       "      <td>4</td>\n",
       "      <td>1997-11-20 21:45:02</td>\n",
       "      <td>Toy Story (1995)</td>\n",
       "    </tr>\n",
       "  </tbody>\n",
       "</table>\n",
       "</div>"
      ],
      "text/plain": [
       "   ID_do_usuário  ID_do_filme  classificação           timestamp  \\\n",
       "0            554            1              3 1997-10-07 13:45:38   \n",
       "1            790            1              3 1998-01-10 19:41:46   \n",
       "2            396            1              4 1998-01-12 23:05:46   \n",
       "3            807            1              4 1998-04-14 04:30:31   \n",
       "4            232            1              4 1997-11-20 21:45:02   \n",
       "\n",
       "              title  \n",
       "0  Toy Story (1995)  \n",
       "1  Toy Story (1995)  \n",
       "2  Toy Story (1995)  \n",
       "3  Toy Story (1995)  \n",
       "4  Toy Story (1995)  "
      ]
     },
     "execution_count": 6,
     "metadata": {},
     "output_type": "execute_result"
    }
   ],
   "source": [
    "df = pd.merge(df_ranking, df_filmes, left_on='ID_do_filme', right_on='item_id')\n",
    "df.drop(columns=['item_id'], inplace=True)\n",
    "df.head()"
   ]
  },
  {
   "cell_type": "code",
   "execution_count": 12,
   "id": "f947ba27",
   "metadata": {},
   "outputs": [
    {
     "data": {
      "text/plain": [
       "<Axes: >"
      ]
     },
     "execution_count": 12,
     "metadata": {},
     "output_type": "execute_result"
    },
    {
     "data": {
      "image/png": "[encoded data removed]",
      "text/plain": [
       "<Figure size 640x480 with 2 Axes>"
      ]
     },
     "metadata": {},
     "output_type": "display_data"
    }
   ],
   "source": [
    "df_numerico = df.select_dtypes(include=['float64', 'int64'])\n",
    "\n",
    "sns.heatmap(df_numerico.corr(), annot=True, cmap='coolwarm')"
   ]
  },
  {
   "cell_type": "code",
   "execution_count": 10,
   "id": "f8938d22",
   "metadata": {},
   "outputs": [
    {
     "data": {
      "application/vnd.microsoft.datawrangler.viewer.v0+json": {
       "columns": [
        {
         "name": "title",
         "rawType": "object",
         "type": "string"
        },
        {
         "name": "('classificação', 'mean')",
         "rawType": "float64",
         "type": "float"
        },
        {
         "name": "('classificação', 'count')",
         "rawType": "int64",
         "type": "integer"
        }
       ],
       "ref": "e163864f-1f78-486a-81f3-23154bad9f41",
       "rows": [
        [
         "They Made Me a Criminal (1939)",
         "5.0",
         "1"
        ],
        [
         "Marlene Dietrich: Shadow and Light (1996) ",
         "5.0",
         "1"
        ],
        [
         "Saint of Fort Washington, The (1993)",
         "5.0",
         "2"
        ],
        [
         "Someone Else's America (1995)",
         "5.0",
         "1"
        ],
        [
         "Star Kid (1997)",
         "5.0",
         "3"
        ],
        [
         "Great Day in Harlem, A (1994)",
         "5.0",
         "1"
        ],
        [
         "Aiqing wansui (1994)",
         "5.0",
         "1"
        ],
        [
         "Santa with Muscles (1996)",
         "5.0",
         "2"
        ],
        [
         "Prefontaine (1997)",
         "5.0",
         "3"
        ],
        [
         "Entertaining Angels: The Dorothy Day Story (1996)",
         "5.0",
         "1"
        ]
       ],
       "shape": {
        "columns": 2,
        "rows": 10
       }
      },
      "text/html": [
       "<div>\n",
       "<style scoped>\n",
       "    .dataframe tbody tr th:only-of-type {\n",
       "        vertical-align: middle;\n",
       "    }\n",
       "\n",
       "    .dataframe tbody tr th {\n",
       "        vertical-align: top;\n",
       "    }\n",
       "\n",
       "    .dataframe thead tr th {\n",
       "        text-align: left;\n",
       "    }\n",
       "\n",
       "    .dataframe thead tr:last-of-type th {\n",
       "        text-align: right;\n",
       "    }\n",
       "</style>\n",
       "<table border=\"1\" class=\"dataframe\">\n",
       "  <thead>\n",
       "    <tr>\n",
       "      <th></th>\n",
       "      <th colspan=\"2\" halign=\"left\">classificação</th>\n",
       "    </tr>\n",
       "    <tr>\n",
       "      <th></th>\n",
       "      <th>mean</th>\n",
       "      <th>count</th>\n",
       "    </tr>\n",
       "    <tr>\n",
       "      <th>title</th>\n",
       "      <th></th>\n",
       "      <th></th>\n",
       "    </tr>\n",
       "  </thead>\n",
       "  <tbody>\n",
       "    <tr>\n",
       "      <th>They Made Me a Criminal (1939)</th>\n",
       "      <td>5.0</td>\n",
       "      <td>1</td>\n",
       "    </tr>\n",
       "    <tr>\n",
       "      <th>Marlene Dietrich: Shadow and Light (1996)</th>\n",
       "      <td>5.0</td>\n",
       "      <td>1</td>\n",
       "    </tr>\n",
       "    <tr>\n",
       "      <th>Saint of Fort Washington, The (1993)</th>\n",
       "      <td>5.0</td>\n",
       "      <td>2</td>\n",
       "    </tr>\n",
       "    <tr>\n",
       "      <th>Someone Else's America (1995)</th>\n",
       "      <td>5.0</td>\n",
       "      <td>1</td>\n",
       "    </tr>\n",
       "    <tr>\n",
       "      <th>Star Kid (1997)</th>\n",
       "      <td>5.0</td>\n",
       "      <td>3</td>\n",
       "    </tr>\n",
       "    <tr>\n",
       "      <th>Great Day in Harlem, A (1994)</th>\n",
       "      <td>5.0</td>\n",
       "      <td>1</td>\n",
       "    </tr>\n",
       "    <tr>\n",
       "      <th>Aiqing wansui (1994)</th>\n",
       "      <td>5.0</td>\n",
       "      <td>1</td>\n",
       "    </tr>\n",
       "    <tr>\n",
       "      <th>Santa with Muscles (1996)</th>\n",
       "      <td>5.0</td>\n",
       "      <td>2</td>\n",
       "    </tr>\n",
       "    <tr>\n",
       "      <th>Prefontaine (1997)</th>\n",
       "      <td>5.0</td>\n",
       "      <td>3</td>\n",
       "    </tr>\n",
       "    <tr>\n",
       "      <th>Entertaining Angels: The Dorothy Day Story (1996)</th>\n",
       "      <td>5.0</td>\n",
       "      <td>1</td>\n",
       "    </tr>\n",
       "  </tbody>\n",
       "</table>\n",
       "</div>"
      ],
      "text/plain": [
       "                                                  classificação      \n",
       "                                                           mean count\n",
       "title                                                                \n",
       "They Made Me a Criminal (1939)                              5.0     1\n",
       "Marlene Dietrich: Shadow and Light (1996)                   5.0     1\n",
       "Saint of Fort Washington, The (1993)                        5.0     2\n",
       "Someone Else's America (1995)                               5.0     1\n",
       "Star Kid (1997)                                             5.0     3\n",
       "Great Day in Harlem, A (1994)                               5.0     1\n",
       "Aiqing wansui (1994)                                        5.0     1\n",
       "Santa with Muscles (1996)                                   5.0     2\n",
       "Prefontaine (1997)                                          5.0     3\n",
       "Entertaining Angels: The Dorothy Day Story (1996)           5.0     1"
      ]
     },
     "execution_count": 10,
     "metadata": {},
     "output_type": "execute_result"
    }
   ],
   "source": [
    "ratings = df.groupby('title').agg({'classificação': ['mean', 'count']})\n",
    "top_10_filmes = ratings.sort_values(by=('classificação', 'mean'), ascending=False).head(10)\n",
    "top_10_filmes"
   ]
  },
  {
   "cell_type": "code",
   "execution_count": 14,
   "id": "abb77c27",
   "metadata": {},
   "outputs": [
    {
     "data": {
      "text/plain": [
       "array([[1.        , 0.85903518],\n",
       "       [0.85903518, 1.        ]])"
      ]
     },
     "execution_count": 14,
     "metadata": {},
     "output_type": "execute_result"
    }
   ],
   "source": [
    "x = np.arange(20,30)\n",
    "y = np.array([3,1,4,5,14,12,22,45,89,62])\n",
    "r = np.corrcoef(x,y)\n",
    "r\n"
   ]
  }
 ],
 "metadata": {
  "kernelspec": {
   "display_name": "base",
   "language": "python",
   "name": "python3"
  },
  "language_info": {
   "codemirror_mode": {
    "name": "ipython",
    "version": 3
   },
   "file_extension": ".py",
   "mimetype": "text/x-python",
   "name": "python",
   "nbconvert_exporter": "python",
   "pygments_lexer": "ipython3",
   "version": "3.12.4"
  }
 },
 "nbformat": 4,
 "nbformat_minor": 5
}
