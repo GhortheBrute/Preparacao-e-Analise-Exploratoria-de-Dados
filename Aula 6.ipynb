{
 "cells": [
  {
   "cell_type": "code",
   "execution_count": 2,
   "id": "d4423edd",
   "metadata": {},
   "outputs": [],
   "source": [
    "import pandas as pd\n",
    "import matplotlib.pyplot as plt\n",
    "import seaborn as sns"
   ]
  },
  {
   "cell_type": "code",
   "execution_count": 3,
   "id": "2caf145b",
   "metadata": {},
   "outputs": [],
   "source": [
    "df = pd.read_csv('Dados\\\\104alunos.csv')"
   ]
  },
  {
   "cell_type": "code",
   "execution_count": 6,
   "id": "0bc1bf22",
   "metadata": {},
   "outputs": [
    {
     "data": {
      "application/vnd.microsoft.datawrangler.viewer.v0+json": {
       "columns": [
        {
         "name": "index",
         "rawType": "int64",
         "type": "integer"
        },
        {
         "name": "id",
         "rawType": "int64",
         "type": "integer"
        },
        {
         "name": "Aluno",
         "rawType": "object",
         "type": "string"
        },
        {
         "name": "Faltas",
         "rawType": "int64",
         "type": "integer"
        },
        {
         "name": "Prova",
         "rawType": "int64",
         "type": "integer"
        },
        {
         "name": "Atividades",
         "rawType": "int64",
         "type": "integer"
        },
        {
         "name": "Média",
         "rawType": "float64",
         "type": "float"
        }
       ],
       "ref": "514184e1-0daa-42c5-8a12-0535556e6667",
       "rows": [
        [
         "0",
         "1",
         "Luiz",
         "3",
         "2",
         "9",
         "5.5"
        ],
        [
         "1",
         "2",
         "Bruna",
         "4",
         "7",
         "8",
         "7.5"
        ],
        [
         "2",
         "3",
         "Carla",
         "2",
         "5",
         "7",
         "6.0"
        ],
        [
         "3",
         "4",
         "Carlos",
         "1",
         "10",
         "6",
         "8.0"
        ],
        [
         "4",
         "5",
         "Paole",
         "4",
         "6",
         "5",
         "5.5"
        ]
       ],
       "shape": {
        "columns": 6,
        "rows": 5
       }
      },
      "text/html": [
       "<div>\n",
       "<style scoped>\n",
       "    .dataframe tbody tr th:only-of-type {\n",
       "        vertical-align: middle;\n",
       "    }\n",
       "\n",
       "    .dataframe tbody tr th {\n",
       "        vertical-align: top;\n",
       "    }\n",
       "\n",
       "    .dataframe thead th {\n",
       "        text-align: right;\n",
       "    }\n",
       "</style>\n",
       "<table border=\"1\" class=\"dataframe\">\n",
       "  <thead>\n",
       "    <tr style=\"text-align: right;\">\n",
       "      <th></th>\n",
       "      <th>id</th>\n",
       "      <th>Aluno</th>\n",
       "      <th>Faltas</th>\n",
       "      <th>Prova</th>\n",
       "      <th>Atividades</th>\n",
       "      <th>Média</th>\n",
       "    </tr>\n",
       "  </thead>\n",
       "  <tbody>\n",
       "    <tr>\n",
       "      <th>0</th>\n",
       "      <td>1</td>\n",
       "      <td>Luiz</td>\n",
       "      <td>3</td>\n",
       "      <td>2</td>\n",
       "      <td>9</td>\n",
       "      <td>5.5</td>\n",
       "    </tr>\n",
       "    <tr>\n",
       "      <th>1</th>\n",
       "      <td>2</td>\n",
       "      <td>Bruna</td>\n",
       "      <td>4</td>\n",
       "      <td>7</td>\n",
       "      <td>8</td>\n",
       "      <td>7.5</td>\n",
       "    </tr>\n",
       "    <tr>\n",
       "      <th>2</th>\n",
       "      <td>3</td>\n",
       "      <td>Carla</td>\n",
       "      <td>2</td>\n",
       "      <td>5</td>\n",
       "      <td>7</td>\n",
       "      <td>6.0</td>\n",
       "    </tr>\n",
       "    <tr>\n",
       "      <th>3</th>\n",
       "      <td>4</td>\n",
       "      <td>Carlos</td>\n",
       "      <td>1</td>\n",
       "      <td>10</td>\n",
       "      <td>6</td>\n",
       "      <td>8.0</td>\n",
       "    </tr>\n",
       "    <tr>\n",
       "      <th>4</th>\n",
       "      <td>5</td>\n",
       "      <td>Paole</td>\n",
       "      <td>4</td>\n",
       "      <td>6</td>\n",
       "      <td>5</td>\n",
       "      <td>5.5</td>\n",
       "    </tr>\n",
       "  </tbody>\n",
       "</table>\n",
       "</div>"
      ],
      "text/plain": [
       "   id   Aluno  Faltas  Prova  Atividades  Média\n",
       "0   1    Luiz       3      2           9    5.5\n",
       "1   2   Bruna       4      7           8    7.5\n",
       "2   3   Carla       2      5           7    6.0\n",
       "3   4  Carlos       1     10           6    8.0\n",
       "4   5   Paole       4      6           5    5.5"
      ]
     },
     "execution_count": 6,
     "metadata": {},
     "output_type": "execute_result"
    }
   ],
   "source": [
    "df.head()"
   ]
  },
  {
   "cell_type": "code",
   "execution_count": 5,
   "id": "0a99f092",
   "metadata": {},
   "outputs": [],
   "source": [
    "df['Média'] = (df['Prova'] + df['Atividades']) / 2"
   ]
  },
  {
   "cell_type": "code",
   "execution_count": 17,
   "id": "b47eee96",
   "metadata": {},
   "outputs": [
    {
     "data": {
      "image/png": "[encoded data removed]",
      "text/plain": [
       "<Figure size 640x480 with 1 Axes>"
      ]
     },
     "metadata": {},
     "output_type": "display_data"
    }
   ],
   "source": [
    "df.plot.bar(x='Aluno', y='Média', color='blue', legend=False)\n",
    "plt.title('Distribuição das Médias')\n",
    "plt.xlabel('Média')\n",
    "plt.show()"
   ]
  },
  {
   "cell_type": "code",
   "execution_count": null,
   "id": "c4009a21",
   "metadata": {},
   "outputs": [
    {
     "data": {
      "image/png": "[encoded data removed]",
      "text/plain": [
       "<Figure size 640x480 with 1 Axes>"
      ]
     },
     "metadata": {},
     "output_type": "display_data"
    }
   ],
   "source": [
    "ax = sns.boxplot(x='Média', data=df, color='lightblue')\n",
    "ax.set_title('Distribuição das Médias')\n",
    "plt.show()"
   ]
  }
 ],
 "metadata": {
  "kernelspec": {
   "display_name": "Python 3",
   "language": "python",
   "name": "python3"
  },
  "language_info": {
   "codemirror_mode": {
    "name": "ipython",
    "version": 3
   },
   "file_extension": ".py",
   "mimetype": "text/x-python",
   "name": "python",
   "nbconvert_exporter": "python",
   "pygments_lexer": "ipython3",
   "version": "3.11.13"
  }
 },
 "nbformat": 4,
 "nbformat_minor": 5
}
