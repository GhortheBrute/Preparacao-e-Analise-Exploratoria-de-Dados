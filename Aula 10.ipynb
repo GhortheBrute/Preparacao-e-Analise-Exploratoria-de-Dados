{
 "cells": [
  {
   "cell_type": "code",
   "execution_count": 1,
   "id": "0a7345eb",
   "metadata": {},
   "outputs": [],
   "source": [
    "import pandas as pd\n",
    "import matplotlib.pyplot as plt\n",
    "import numpy as np\n",
    "import seaborn as sns\n",
    "\n",
    "%matplotlib inline"
   ]
  },
  {
   "cell_type": "markdown",
   "id": "babcfbe3",
   "metadata": {},
   "source": [
    "# Aula"
   ]
  },
  {
   "cell_type": "code",
   "execution_count": null,
   "id": "90e2e0f5",
   "metadata": {},
   "outputs": [],
   "source": []
  },
  {
   "cell_type": "markdown",
   "id": "fdec2a05",
   "metadata": {},
   "source": [
    "# Desafio\n",
    "\n",
    "A partir dessas informações, desenvolva um algoritmo utilizando as bibliotecas Seaborn, Pandas e Matplotlib do Python, considerando o arquivo CSV chamado de Gorjetas, para:"
   ]
  },
  {
   "cell_type": "markdown",
   "id": "1a803ebd",
   "metadata": {},
   "source": [
    "## a) criar um gráfico de densidade do total de gorjetas por sexo;"
   ]
  },
  {
   "cell_type": "code",
   "execution_count": 3,
   "id": "76961a5d",
   "metadata": {},
   "outputs": [
    {
     "data": {
      "application/vnd.microsoft.datawrangler.viewer.v0+json": {
       "columns": [
        {
         "name": "index",
         "rawType": "int64",
         "type": "integer"
        },
        {
         "name": "total_conta",
         "rawType": "float64",
         "type": "float"
        },
        {
         "name": "gorjeta",
         "rawType": "float64",
         "type": "float"
        },
        {
         "name": "sexo",
         "rawType": "object",
         "type": "string"
        },
        {
         "name": "fumante",
         "rawType": "object",
         "type": "string"
        },
        {
         "name": "dia",
         "rawType": "object",
         "type": "string"
        },
        {
         "name": "tempo",
         "rawType": "object",
         "type": "string"
        },
        {
         "name": "quantidade",
         "rawType": "int64",
         "type": "integer"
        }
       ],
       "ref": "f09116cb-b0fb-453f-841f-4dfd94d9f708",
       "rows": [
        [
         "0",
         "16.99",
         "1.01",
         "Mulher",
         "Não",
         "Dom",
         "Jantar",
         "2"
        ],
        [
         "1",
         "10.34",
         "1.66",
         "Homem",
         "Não",
         "Dom",
         "Jantar",
         "3"
        ],
        [
         "2",
         "21.01",
         "3.5",
         "Homem",
         "Não",
         "Dom",
         "Jantar",
         "3"
        ],
        [
         "3",
         "23.68",
         "3.31",
         "Homem",
         "Não",
         "Dom",
         "Jantar",
         "2"
        ],
        [
         "4",
         "24.59",
         "3.61",
         "Mulher",
         "Não",
         "Dom",
         "Jantar",
         "4"
        ],
        [
         "5",
         "25.29",
         "4.71",
         "Homem",
         "Não",
         "Dom",
         "Jantar",
         "4"
        ],
        [
         "6",
         "8.77",
         "2.0",
         "Homem",
         "Não",
         "Dom",
         "Jantar",
         "2"
        ],
        [
         "7",
         "26.88",
         "3.12",
         "Homem",
         "Não",
         "Dom",
         "Jantar",
         "4"
        ],
        [
         "8",
         "15.04",
         "1.96",
         "Homem",
         "Não",
         "Dom",
         "Jantar",
         "2"
        ],
        [
         "9",
         "14.78",
         "3.23",
         "Homem",
         "Não",
         "Dom",
         "Jantar",
         "2"
        ],
        [
         "10",
         "10.27",
         "1.71",
         "Homem",
         "Não",
         "Dom",
         "Jantar",
         "2"
        ],
        [
         "11",
         "35.26",
         "5.0",
         "Mulher",
         "Não",
         "Dom",
         "Jantar",
         "4"
        ],
        [
         "12",
         "15.42",
         "1.57",
         "Homem",
         "Não",
         "Dom",
         "Jantar",
         "2"
        ],
        [
         "13",
         "18.43",
         "3.0",
         "Homem",
         "Não",
         "Dom",
         "Jantar",
         "4"
        ],
        [
         "14",
         "14.83",
         "3.02",
         "Mulher",
         "Não",
         "Dom",
         "Jantar",
         "2"
        ],
        [
         "15",
         "21.58",
         "3.92",
         "Homem",
         "Não",
         "Dom",
         "Jantar",
         "2"
        ],
        [
         "16",
         "10.33",
         "1.67",
         "Mulher",
         "Não",
         "Dom",
         "Jantar",
         "3"
        ],
        [
         "17",
         "16.29",
         "3.71",
         "Homem",
         "Não",
         "Dom",
         "Jantar",
         "3"
        ],
        [
         "18",
         "16.97",
         "3.5",
         "Mulher",
         "Não",
         "Dom",
         "Jantar",
         "3"
        ],
        [
         "19",
         "20.65",
         "3.35",
         "Homem",
         "Não",
         "Sab",
         "Jantar",
         "3"
        ],
        [
         "20",
         "17.92",
         "4.08",
         "Homem",
         "Não",
         "Sab",
         "Jantar",
         "2"
        ],
        [
         "21",
         "20.29",
         "2.75",
         "Mulher",
         "Não",
         "Sab",
         "Jantar",
         "2"
        ],
        [
         "22",
         "15.77",
         "2.23",
         "Mulher",
         "Não",
         "Sab",
         "Jantar",
         "2"
        ],
        [
         "23",
         "39.42",
         "7.58",
         "Homem",
         "Não",
         "Sab",
         "Jantar",
         "4"
        ],
        [
         "24",
         "19.82",
         "3.18",
         "Homem",
         "Não",
         "Sab",
         "Jantar",
         "2"
        ],
        [
         "25",
         "17.81",
         "2.34",
         "Homem",
         "Não",
         "Sab",
         "Jantar",
         "4"
        ],
        [
         "26",
         "13.37",
         "2.0",
         "Homem",
         "Não",
         "Sab",
         "Jantar",
         "2"
        ],
        [
         "27",
         "12.69",
         "2.0",
         "Homem",
         "Não",
         "Sab",
         "Jantar",
         "2"
        ],
        [
         "28",
         "21.7",
         "4.3",
         "Homem",
         "Não",
         "Sab",
         "Jantar",
         "2"
        ],
        [
         "29",
         "19.65",
         "3.0",
         "Mulher",
         "Não",
         "Sab",
         "Jantar",
         "2"
        ],
        [
         "30",
         "9.55",
         "1.45",
         "Homem",
         "Não",
         "Sab",
         "Jantar",
         "2"
        ],
        [
         "31",
         "18.35",
         "2.5",
         "Homem",
         "Não",
         "Sab",
         "Jantar",
         "4"
        ],
        [
         "32",
         "15.06",
         "3.0",
         "Mulher",
         "Não",
         "Sab",
         "Jantar",
         "2"
        ],
        [
         "33",
         "20.69",
         "2.45",
         "Mulher",
         "Não",
         "Sab",
         "Jantar",
         "4"
        ],
        [
         "34",
         "17.78",
         "3.27",
         "Homem",
         "Não",
         "Sab",
         "Jantar",
         "2"
        ],
        [
         "35",
         "24.06",
         "3.6",
         "Homem",
         "Não",
         "Sab",
         "Jantar",
         "3"
        ],
        [
         "36",
         "16.31",
         "2.0",
         "Homem",
         "Não",
         "Sab",
         "Jantar",
         "3"
        ],
        [
         "37",
         "16.93",
         "3.07",
         "Mulher",
         "Não",
         "Sab",
         "Jantar",
         "3"
        ],
        [
         "38",
         "18.69",
         "2.31",
         "Homem",
         "Não",
         "Sab",
         "Jantar",
         "3"
        ],
        [
         "39",
         "31.27",
         "5.0",
         "Homem",
         "Não",
         "Sab",
         "Jantar",
         "3"
        ],
        [
         "40",
         "16.04",
         "2.24",
         "Homem",
         "Não",
         "Sab",
         "Jantar",
         "3"
        ],
        [
         "41",
         "17.46",
         "2.54",
         "Homem",
         "Não",
         "Dom",
         "Jantar",
         "2"
        ],
        [
         "42",
         "13.94",
         "3.06",
         "Homem",
         "Não",
         "Dom",
         "Jantar",
         "2"
        ],
        [
         "43",
         "9.68",
         "1.32",
         "Homem",
         "Não",
         "Dom",
         "Jantar",
         "2"
        ],
        [
         "44",
         "30.4",
         "5.6",
         "Homem",
         "Não",
         "Dom",
         "Jantar",
         "4"
        ],
        [
         "45",
         "18.29",
         "3.0",
         "Homem",
         "Não",
         "Dom",
         "Jantar",
         "2"
        ],
        [
         "46",
         "22.23",
         "5.0",
         "Homem",
         "Não",
         "Dom",
         "Jantar",
         "2"
        ],
        [
         "47",
         "32.4",
         "6.0",
         "Homem",
         "Não",
         "Dom",
         "Jantar",
         "4"
        ],
        [
         "48",
         "28.55",
         "2.05",
         "Homem",
         "Não",
         "Dom",
         "Jantar",
         "3"
        ],
        [
         "49",
         "18.04",
         "3.0",
         "Homem",
         "Não",
         "Dom",
         "Jantar",
         "2"
        ]
       ],
       "shape": {
        "columns": 7,
        "rows": 244
       }
      },
      "text/html": [
       "<div>\n",
       "<style scoped>\n",
       "    .dataframe tbody tr th:only-of-type {\n",
       "        vertical-align: middle;\n",
       "    }\n",
       "\n",
       "    .dataframe tbody tr th {\n",
       "        vertical-align: top;\n",
       "    }\n",
       "\n",
       "    .dataframe thead th {\n",
       "        text-align: right;\n",
       "    }\n",
       "</style>\n",
       "<table border=\"1\" class=\"dataframe\">\n",
       "  <thead>\n",
       "    <tr style=\"text-align: right;\">\n",
       "      <th></th>\n",
       "      <th>total_conta</th>\n",
       "      <th>gorjeta</th>\n",
       "      <th>sexo</th>\n",
       "      <th>fumante</th>\n",
       "      <th>dia</th>\n",
       "      <th>tempo</th>\n",
       "      <th>quantidade</th>\n",
       "    </tr>\n",
       "  </thead>\n",
       "  <tbody>\n",
       "    <tr>\n",
       "      <th>0</th>\n",
       "      <td>16.99</td>\n",
       "      <td>1.01</td>\n",
       "      <td>Mulher</td>\n",
       "      <td>Não</td>\n",
       "      <td>Dom</td>\n",
       "      <td>Jantar</td>\n",
       "      <td>2</td>\n",
       "    </tr>\n",
       "    <tr>\n",
       "      <th>1</th>\n",
       "      <td>10.34</td>\n",
       "      <td>1.66</td>\n",
       "      <td>Homem</td>\n",
       "      <td>Não</td>\n",
       "      <td>Dom</td>\n",
       "      <td>Jantar</td>\n",
       "      <td>3</td>\n",
       "    </tr>\n",
       "    <tr>\n",
       "      <th>2</th>\n",
       "      <td>21.01</td>\n",
       "      <td>3.50</td>\n",
       "      <td>Homem</td>\n",
       "      <td>Não</td>\n",
       "      <td>Dom</td>\n",
       "      <td>Jantar</td>\n",
       "      <td>3</td>\n",
       "    </tr>\n",
       "    <tr>\n",
       "      <th>3</th>\n",
       "      <td>23.68</td>\n",
       "      <td>3.31</td>\n",
       "      <td>Homem</td>\n",
       "      <td>Não</td>\n",
       "      <td>Dom</td>\n",
       "      <td>Jantar</td>\n",
       "      <td>2</td>\n",
       "    </tr>\n",
       "    <tr>\n",
       "      <th>4</th>\n",
       "      <td>24.59</td>\n",
       "      <td>3.61</td>\n",
       "      <td>Mulher</td>\n",
       "      <td>Não</td>\n",
       "      <td>Dom</td>\n",
       "      <td>Jantar</td>\n",
       "      <td>4</td>\n",
       "    </tr>\n",
       "    <tr>\n",
       "      <th>...</th>\n",
       "      <td>...</td>\n",
       "      <td>...</td>\n",
       "      <td>...</td>\n",
       "      <td>...</td>\n",
       "      <td>...</td>\n",
       "      <td>...</td>\n",
       "      <td>...</td>\n",
       "    </tr>\n",
       "    <tr>\n",
       "      <th>239</th>\n",
       "      <td>29.03</td>\n",
       "      <td>5.92</td>\n",
       "      <td>Homem</td>\n",
       "      <td>Não</td>\n",
       "      <td>Sab</td>\n",
       "      <td>Jantar</td>\n",
       "      <td>3</td>\n",
       "    </tr>\n",
       "    <tr>\n",
       "      <th>240</th>\n",
       "      <td>27.18</td>\n",
       "      <td>2.00</td>\n",
       "      <td>Mulher</td>\n",
       "      <td>Sim</td>\n",
       "      <td>Sab</td>\n",
       "      <td>Jantar</td>\n",
       "      <td>2</td>\n",
       "    </tr>\n",
       "    <tr>\n",
       "      <th>241</th>\n",
       "      <td>22.67</td>\n",
       "      <td>2.00</td>\n",
       "      <td>Homem</td>\n",
       "      <td>Sim</td>\n",
       "      <td>Sab</td>\n",
       "      <td>Jantar</td>\n",
       "      <td>2</td>\n",
       "    </tr>\n",
       "    <tr>\n",
       "      <th>242</th>\n",
       "      <td>17.82</td>\n",
       "      <td>1.75</td>\n",
       "      <td>Homem</td>\n",
       "      <td>Não</td>\n",
       "      <td>Sab</td>\n",
       "      <td>Jantar</td>\n",
       "      <td>2</td>\n",
       "    </tr>\n",
       "    <tr>\n",
       "      <th>243</th>\n",
       "      <td>18.78</td>\n",
       "      <td>3.00</td>\n",
       "      <td>Mulher</td>\n",
       "      <td>Não</td>\n",
       "      <td>Qui</td>\n",
       "      <td>Jantar</td>\n",
       "      <td>2</td>\n",
       "    </tr>\n",
       "  </tbody>\n",
       "</table>\n",
       "<p>244 rows × 7 columns</p>\n",
       "</div>"
      ],
      "text/plain": [
       "     total_conta  gorjeta    sexo fumante  dia   tempo  quantidade\n",
       "0          16.99     1.01  Mulher     Não  Dom  Jantar           2\n",
       "1          10.34     1.66   Homem     Não  Dom  Jantar           3\n",
       "2          21.01     3.50   Homem     Não  Dom  Jantar           3\n",
       "3          23.68     3.31   Homem     Não  Dom  Jantar           2\n",
       "4          24.59     3.61  Mulher     Não  Dom  Jantar           4\n",
       "..           ...      ...     ...     ...  ...     ...         ...\n",
       "239        29.03     5.92   Homem     Não  Sab  Jantar           3\n",
       "240        27.18     2.00  Mulher     Sim  Sab  Jantar           2\n",
       "241        22.67     2.00   Homem     Sim  Sab  Jantar           2\n",
       "242        17.82     1.75   Homem     Não  Sab  Jantar           2\n",
       "243        18.78     3.00  Mulher     Não  Qui  Jantar           2\n",
       "\n",
       "[244 rows x 7 columns]"
      ]
     },
     "execution_count": 3,
     "metadata": {},
     "output_type": "execute_result"
    }
   ],
   "source": [
    "df_gorjetas = pd.read_csv('Dados/Gorjetas.csv')\n",
    "df_gorjetas"
   ]
  },
  {
   "cell_type": "code",
   "execution_count": 6,
   "id": "d81b0b16",
   "metadata": {},
   "outputs": [
    {
     "name": "stdout",
     "output_type": "stream",
     "text": [
      "<class 'pandas.core.frame.DataFrame'>\n",
      "RangeIndex: 244 entries, 0 to 243\n",
      "Data columns (total 7 columns):\n",
      " #   Column       Non-Null Count  Dtype  \n",
      "---  ------       --------------  -----  \n",
      " 0   total_conta  244 non-null    float64\n",
      " 1   gorjeta      244 non-null    float64\n",
      " 2   sexo         244 non-null    object \n",
      " 3   fumante      0 non-null      object \n",
      " 4   dia          244 non-null    object \n",
      " 5   tempo        244 non-null    object \n",
      " 6   quantidade   244 non-null    int64  \n",
      "dtypes: float64(2), int64(1), object(4)\n",
      "memory usage: 13.5+ KB\n"
     ]
    }
   ],
   "source": [
    "df_gorjetas['fumante'] = df_gorjetas['fumante'].map({'Sim' : True, 'Não' : False})\n",
    "df_gorjetas.info()"
   ]
  },
  {
   "cell_type": "markdown",
   "id": "86630f0c",
   "metadata": {},
   "source": [
    "## b) criar um gráfico de densidade do total de gorjetas pela quantidade de pessoas na mesa;"
   ]
  },
  {
   "cell_type": "code",
   "execution_count": null,
   "id": "6c38b254",
   "metadata": {},
   "outputs": [],
   "source": []
  },
  {
   "cell_type": "markdown",
   "id": "b364b6f8",
   "metadata": {},
   "source": [
    "## c) criar um gráfico de densidade do total de gorjetas por dia da semana."
   ]
  },
  {
   "cell_type": "code",
   "execution_count": null,
   "id": "7d910ec1",
   "metadata": {},
   "outputs": [],
   "source": []
  },
  {
   "cell_type": "markdown",
   "id": "21de71e9",
   "metadata": {},
   "source": [
    "## d) A partir das visualizações criadas nos itens a, b e c, o que se pode avaliar em relação a essa empresa de restaurantes?"
   ]
  },
  {
   "cell_type": "code",
   "execution_count": null,
   "id": "afb794fa",
   "metadata": {},
   "outputs": [],
   "source": []
  }
 ],
 "metadata": {
  "kernelspec": {
   "display_name": "base",
   "language": "python",
   "name": "python3"
  },
  "language_info": {
   "codemirror_mode": {
    "name": "ipython",
    "version": 3
   },
   "file_extension": ".py",
   "mimetype": "text/x-python",
   "name": "python",
   "nbconvert_exporter": "python",
   "pygments_lexer": "ipython3",
   "version": "3.12.4"
  }
 },
 "nbformat": 4,
 "nbformat_minor": 5
}
